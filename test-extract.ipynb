{
 "cells": [
  {
   "cell_type": "code",
   "execution_count": 1,
   "id": "c2bd3fa1-d65d-403d-b9ac-9ed737ead801",
   "metadata": {},
   "outputs": [
    {
     "name": "stdout",
     "output_type": "stream",
     "text": [
      "The autoreload extension is already loaded. To reload it, use:\n",
      "  %reload_ext autoreload\n"
     ]
    }
   ],
   "source": [
    "%load_ext autoreload\n",
    "%autoreload 2\n",
    "from ee_extract import *\n",
    "import geemap\n",
    "\n",
    "ee.Initialize()\n",
    "# 截取栾城的数据\n",
    "# https://code.earthengine.google.com/0001f57d9a79be524076dbc10329538f"
   ]
  },
  {
   "cell_type": "code",
   "execution_count": 2,
   "id": "9860e782-f17f-4e8e-b3d4-0220d6363867",
   "metadata": {},
   "outputs": [
    {
     "data": {
      "text/html": [
       "\n",
       "            <style>\n",
       "                .geemap-dark {\n",
       "                    --jp-widgets-color: white;\n",
       "                    --jp-widgets-label-color: white;\n",
       "                    --jp-ui-font-color1: white;\n",
       "                    --jp-layout-color2: #454545;\n",
       "                    background-color: #383838;\n",
       "                }\n",
       "\n",
       "                .geemap-dark .jupyter-button {\n",
       "                    --jp-layout-color3: #383838;\n",
       "                }\n",
       "\n",
       "                .geemap-colab {\n",
       "                    background-color: var(--colab-primary-surface-color, white);\n",
       "                }\n",
       "\n",
       "                .geemap-colab .jupyter-button {\n",
       "                    --jp-layout-color3: var(--colab-primary-surface-color, white);\n",
       "                }\n",
       "            </style>\n",
       "            "
      ],
      "text/plain": [
       "<IPython.core.display.HTML object>"
      ]
     },
     "metadata": {},
     "output_type": "display_data"
    },
    {
     "data": {
      "text/html": [
       "<div><style>:root {\n",
       "  --font-color-primary: var(--jp-content-font-color0, rgba(0, 0, 0, 1));\n",
       "  --font-color-secondary: var(--jp-content-font-color2, rgba(0, 0, 0, 0.6));\n",
       "  --font-color-accent: rgba(123, 31, 162, 1);\n",
       "  --border-color: var(--jp-border-color2, #e0e0e0);\n",
       "  --background-color: var(--jp-layout-color0, white);\n",
       "  --background-color-row-even: var(--jp-layout-color1, white);\n",
       "  --background-color-row-odd: var(--jp-layout-color2, #eeeeee);\n",
       "}\n",
       "\n",
       "html[theme=\"dark\"],\n",
       "body[data-theme=\"dark\"],\n",
       "body.vscode-dark {\n",
       "  --font-color-primary: rgba(255, 255, 255, 1);\n",
       "  --font-color-secondary: rgba(255, 255, 255, 0.6);\n",
       "  --font-color-accent: rgb(173, 132, 190);\n",
       "  --border-color: #2e2e2e;\n",
       "  --background-color: #111111;\n",
       "  --background-color-row-even: #111111;\n",
       "  --background-color-row-odd: #313131;\n",
       "}\n",
       "\n",
       ".ee {\n",
       "  padding: 1em;\n",
       "  line-height: 1.5em;\n",
       "  min-width: 300px;\n",
       "  max-width: 1200px;\n",
       "  overflow-y: scroll;\n",
       "  max-height: 600px;\n",
       "  border: 1px solid var(--border-color);\n",
       "  font-family: monospace;\n",
       "}\n",
       "\n",
       ".ee li {\n",
       "  list-style-type: none;\n",
       "}\n",
       "\n",
       ".ee ul {\n",
       "  padding-left: 1.5em !important;\n",
       "  margin: 0;\n",
       "}\n",
       "\n",
       ".ee > ul {\n",
       "  padding-left: 0 !important;\n",
       "}\n",
       "\n",
       ".ee-open,\n",
       ".ee-shut {\n",
       "  color: var(--font-color-secondary);\n",
       "  cursor: pointer;\n",
       "  margin: 0;\n",
       "}\n",
       "\n",
       ".ee-open:hover,\n",
       ".ee-shut:hover {\n",
       "  color: var(--font-color-primary);\n",
       "}\n",
       "\n",
       ".ee-k {\n",
       "  color: var(--font-color-accent);\n",
       "  margin-right: 6px;\n",
       "}\n",
       "\n",
       ".ee-v {\n",
       "  color: var(--font-color-primary);\n",
       "}\n",
       "\n",
       ".ee-toggle {\n",
       "  display: none;\n",
       "}\n",
       "\n",
       ".ee-shut + ul {\n",
       "  display: none;\n",
       "}\n",
       "\n",
       ".ee-open + ul {\n",
       "  display: block;\n",
       "}\n",
       "\n",
       ".ee-shut::before {\n",
       "  display: inline-block;\n",
       "  content: \"▼\";\n",
       "  margin-right: 6px;\n",
       "  transform: rotate(-90deg);\n",
       "  transition: transform 0.2s;\n",
       "}\n",
       "\n",
       ".ee-open::before {\n",
       "  transform: rotate(0deg);\n",
       "  display: inline-block;\n",
       "  content: \"▼\";\n",
       "  margin-right: 6px;\n",
       "  transition: transform 0.2s;\n",
       "}\n",
       "</style><div class='ee'><ul><li><label class='ee-shut'>ImageCollection CAS/IGSNRR/PML/V2_v017  (3 elements)<input type='checkbox' class='ee-toggle'></label><ul><li><span class='ee-k'>type:</span><span class='ee-v'>ImageCollection</span></li><li><span class='ee-k'>id:</span><span class='ee-v'>CAS/IGSNRR/PML/V2_v017</span></li><li><span class='ee-k'>version:</span><span class='ee-v'>1655309672665695</span></li><li><label class='ee-shut'>bands: []<input type='checkbox' class='ee-toggle'></label><ul></ul></li><li><label class='ee-shut'>properties: Object (1 property)<input type='checkbox' class='ee-toggle'></label><ul><li><span class='ee-k'>max_mirrored_version:</span><span class='ee-v'>1622698036062062</span></li></ul></li><li><label class='ee-shut'>features: List (3 elements)<input type='checkbox' class='ee-toggle'></label><ul><li><label class='ee-shut'>0: Image CAS/IGSNRR/PML/V2_v017/2000-02-26 (1 band)<input type='checkbox' class='ee-toggle'></label><ul><li><span class='ee-k'>type:</span><span class='ee-v'>Image</span></li><li><span class='ee-k'>id:</span><span class='ee-v'>CAS/IGSNRR/PML/V2_v017/2000-02-26</span></li><li><span class='ee-k'>version:</span><span class='ee-v'>1655309672665695</span></li><li><label class='ee-shut'>bands: List (1 element)<input type='checkbox' class='ee-toggle'></label><ul><li><label class='ee-shut'>0: \"ET\", double, EPSG:4326<input type='checkbox' class='ee-toggle'></label><ul><li><span class='ee-k'>id:</span><span class='ee-v'>ET</span></li><li><span class='ee-k'>crs:</span><span class='ee-v'>EPSG:4326</span></li><li><label class='ee-shut'>crs_transform: List (6 elements)<input type='checkbox' class='ee-toggle'></label><ul><li><span class='ee-k'>0:</span><span class='ee-v'>0.004166666666666667</span></li><li><span class='ee-k'>1:</span><span class='ee-v'>0</span></li><li><span class='ee-k'>2:</span><span class='ee-v'>-180</span></li><li><span class='ee-k'>3:</span><span class='ee-v'>0</span></li><li><span class='ee-k'>4:</span><span class='ee-v'>-0.004166666666666667</span></li><li><span class='ee-k'>5:</span><span class='ee-v'>89</span></li></ul></li><li><label class='ee-shut'>data_type: double<input type='checkbox' class='ee-toggle'></label><ul><li><span class='ee-k'>type:</span><span class='ee-v'>PixelType</span></li><li><span class='ee-k'>max:</span><span class='ee-v'>1966.0500000000002</span></li><li><span class='ee-k'>min:</span><span class='ee-v'>0</span></li><li><span class='ee-k'>precision:</span><span class='ee-v'>double</span></li></ul></li></ul></li></ul></li><li><label class='ee-shut'>properties: Object (2 properties)<input type='checkbox' class='ee-toggle'></label><ul><li><span class='ee-k'>system:index:</span><span class='ee-v'>2000-02-26</span></li><li><span class='ee-k'>system:time_start:</span><span class='ee-v'>951523200000</span></li></ul></li></ul></li><li><label class='ee-shut'>1: Image CAS/IGSNRR/PML/V2_v017/2000-03-05 (1 band)<input type='checkbox' class='ee-toggle'></label><ul><li><span class='ee-k'>type:</span><span class='ee-v'>Image</span></li><li><span class='ee-k'>id:</span><span class='ee-v'>CAS/IGSNRR/PML/V2_v017/2000-03-05</span></li><li><span class='ee-k'>version:</span><span class='ee-v'>1655309672665695</span></li><li><label class='ee-shut'>bands: List (1 element)<input type='checkbox' class='ee-toggle'></label><ul><li><label class='ee-shut'>0: \"ET\", double, EPSG:4326<input type='checkbox' class='ee-toggle'></label><ul><li><span class='ee-k'>id:</span><span class='ee-v'>ET</span></li><li><span class='ee-k'>crs:</span><span class='ee-v'>EPSG:4326</span></li><li><label class='ee-shut'>crs_transform: List (6 elements)<input type='checkbox' class='ee-toggle'></label><ul><li><span class='ee-k'>0:</span><span class='ee-v'>0.004166666666666667</span></li><li><span class='ee-k'>1:</span><span class='ee-v'>0</span></li><li><span class='ee-k'>2:</span><span class='ee-v'>-180</span></li><li><span class='ee-k'>3:</span><span class='ee-v'>0</span></li><li><span class='ee-k'>4:</span><span class='ee-v'>-0.004166666666666667</span></li><li><span class='ee-k'>5:</span><span class='ee-v'>89</span></li></ul></li><li><label class='ee-shut'>data_type: double<input type='checkbox' class='ee-toggle'></label><ul><li><span class='ee-k'>type:</span><span class='ee-v'>PixelType</span></li><li><span class='ee-k'>max:</span><span class='ee-v'>1966.0500000000002</span></li><li><span class='ee-k'>min:</span><span class='ee-v'>0</span></li><li><span class='ee-k'>precision:</span><span class='ee-v'>double</span></li></ul></li></ul></li></ul></li><li><label class='ee-shut'>properties: Object (2 properties)<input type='checkbox' class='ee-toggle'></label><ul><li><span class='ee-k'>system:index:</span><span class='ee-v'>2000-03-05</span></li><li><span class='ee-k'>system:time_start:</span><span class='ee-v'>952214400000</span></li></ul></li></ul></li><li><label class='ee-shut'>2: Image CAS/IGSNRR/PML/V2_v017/2000-03-13 (1 band)<input type='checkbox' class='ee-toggle'></label><ul><li><span class='ee-k'>type:</span><span class='ee-v'>Image</span></li><li><span class='ee-k'>id:</span><span class='ee-v'>CAS/IGSNRR/PML/V2_v017/2000-03-13</span></li><li><span class='ee-k'>version:</span><span class='ee-v'>1655309672665695</span></li><li><label class='ee-shut'>bands: List (1 element)<input type='checkbox' class='ee-toggle'></label><ul><li><label class='ee-shut'>0: \"ET\", double, EPSG:4326<input type='checkbox' class='ee-toggle'></label><ul><li><span class='ee-k'>id:</span><span class='ee-v'>ET</span></li><li><span class='ee-k'>crs:</span><span class='ee-v'>EPSG:4326</span></li><li><label class='ee-shut'>crs_transform: List (6 elements)<input type='checkbox' class='ee-toggle'></label><ul><li><span class='ee-k'>0:</span><span class='ee-v'>0.004166666666666667</span></li><li><span class='ee-k'>1:</span><span class='ee-v'>0</span></li><li><span class='ee-k'>2:</span><span class='ee-v'>-180</span></li><li><span class='ee-k'>3:</span><span class='ee-v'>0</span></li><li><span class='ee-k'>4:</span><span class='ee-v'>-0.004166666666666667</span></li><li><span class='ee-k'>5:</span><span class='ee-v'>89</span></li></ul></li><li><label class='ee-shut'>data_type: double<input type='checkbox' class='ee-toggle'></label><ul><li><span class='ee-k'>type:</span><span class='ee-v'>PixelType</span></li><li><span class='ee-k'>max:</span><span class='ee-v'>1966.0500000000002</span></li><li><span class='ee-k'>min:</span><span class='ee-v'>0</span></li><li><span class='ee-k'>precision:</span><span class='ee-v'>double</span></li></ul></li></ul></li></ul></li><li><label class='ee-shut'>properties: Object (2 properties)<input type='checkbox' class='ee-toggle'></label><ul><li><span class='ee-k'>system:index:</span><span class='ee-v'>2000-03-13</span></li><li><span class='ee-k'>system:time_start:</span><span class='ee-v'>952905600000</span></li></ul></li></ul></li></ul></li></ul></li></ul></div><script>function toggleHeader() {\n",
       "    const parent = this.parentElement;\n",
       "    parent.className = parent.className === \"ee-open\" ? \"ee-shut\" : \"ee-open\";\n",
       "}\n",
       "\n",
       "for (let c of document.getElementsByClassName(\"ee-toggle\")) {\n",
       "    c.onclick = toggleHeader;\n",
       "}</script></div>"
      ],
      "text/plain": [
       "<ee.imagecollection.ImageCollection at 0x1a670520e20>"
      ]
     },
     "execution_count": 2,
     "metadata": {},
     "output_type": "execute_result"
    }
   ],
   "source": [
    "col = ee.ImageCollection(\"CAS/IGSNRR/PML/V2_v017\")\n",
    "img = col.first()\n",
    "img\n",
    "\n",
    "col_et = col.map(cal_ETsum)\n",
    "col_et.limit(3)"
   ]
  },
  {
   "cell_type": "markdown",
   "id": "a8b8eda4-b6f5-494f-9cbd-8ff6379d352a",
   "metadata": {},
   "source": [
    "## 截取数据\n"
   ]
  },
  {
   "cell_type": "code",
   "execution_count": 3,
   "id": "8ff66630-b2c9-4445-9028-68722c88fad3",
   "metadata": {},
   "outputs": [
    {
     "data": {
      "text/html": [
       "\n",
       "            <style>\n",
       "                .geemap-dark {\n",
       "                    --jp-widgets-color: white;\n",
       "                    --jp-widgets-label-color: white;\n",
       "                    --jp-ui-font-color1: white;\n",
       "                    --jp-layout-color2: #454545;\n",
       "                    background-color: #383838;\n",
       "                }\n",
       "\n",
       "                .geemap-dark .jupyter-button {\n",
       "                    --jp-layout-color3: #383838;\n",
       "                }\n",
       "\n",
       "                .geemap-colab {\n",
       "                    background-color: var(--colab-primary-surface-color, white);\n",
       "                }\n",
       "\n",
       "                .geemap-colab .jupyter-button {\n",
       "                    --jp-layout-color3: var(--colab-primary-surface-color, white);\n",
       "                }\n",
       "            </style>\n",
       "            "
      ],
      "text/plain": [
       "<IPython.core.display.HTML object>"
      ]
     },
     "metadata": {},
     "output_type": "display_data"
    }
   ],
   "source": [
    "point = ee.Feature(ee.Geometry.Point([114 + 41/60, 37 + 53/60]), {'name': 'LuanCheng'})"
   ]
  },
  {
   "cell_type": "code",
   "execution_count": 4,
   "id": "77df1acf-7bd3-424c-8810-759c7a8cbf30",
   "metadata": {
    "scrolled": true
   },
   "outputs": [
    {
     "data": {
      "text/html": [
       "\n",
       "            <style>\n",
       "                .geemap-dark {\n",
       "                    --jp-widgets-color: white;\n",
       "                    --jp-widgets-label-color: white;\n",
       "                    --jp-ui-font-color1: white;\n",
       "                    --jp-layout-color2: #454545;\n",
       "                    background-color: #383838;\n",
       "                }\n",
       "\n",
       "                .geemap-dark .jupyter-button {\n",
       "                    --jp-layout-color3: #383838;\n",
       "                }\n",
       "\n",
       "                .geemap-colab {\n",
       "                    background-color: var(--colab-primary-surface-color, white);\n",
       "                }\n",
       "\n",
       "                .geemap-colab .jupyter-button {\n",
       "                    --jp-layout-color3: var(--colab-primary-surface-color, white);\n",
       "                }\n",
       "            </style>\n",
       "            "
      ],
      "text/plain": [
       "<IPython.core.display.HTML object>"
      ]
     },
     "metadata": {},
     "output_type": "display_data"
    },
    {
     "data": {
      "text/html": [
       "<div><style>:root {\n",
       "  --font-color-primary: var(--jp-content-font-color0, rgba(0, 0, 0, 1));\n",
       "  --font-color-secondary: var(--jp-content-font-color2, rgba(0, 0, 0, 0.6));\n",
       "  --font-color-accent: rgba(123, 31, 162, 1);\n",
       "  --border-color: var(--jp-border-color2, #e0e0e0);\n",
       "  --background-color: var(--jp-layout-color0, white);\n",
       "  --background-color-row-even: var(--jp-layout-color1, white);\n",
       "  --background-color-row-odd: var(--jp-layout-color2, #eeeeee);\n",
       "}\n",
       "\n",
       "html[theme=\"dark\"],\n",
       "body[data-theme=\"dark\"],\n",
       "body.vscode-dark {\n",
       "  --font-color-primary: rgba(255, 255, 255, 1);\n",
       "  --font-color-secondary: rgba(255, 255, 255, 0.6);\n",
       "  --font-color-accent: rgb(173, 132, 190);\n",
       "  --border-color: #2e2e2e;\n",
       "  --background-color: #111111;\n",
       "  --background-color-row-even: #111111;\n",
       "  --background-color-row-odd: #313131;\n",
       "}\n",
       "\n",
       ".ee {\n",
       "  padding: 1em;\n",
       "  line-height: 1.5em;\n",
       "  min-width: 300px;\n",
       "  max-width: 1200px;\n",
       "  overflow-y: scroll;\n",
       "  max-height: 600px;\n",
       "  border: 1px solid var(--border-color);\n",
       "  font-family: monospace;\n",
       "}\n",
       "\n",
       ".ee li {\n",
       "  list-style-type: none;\n",
       "}\n",
       "\n",
       ".ee ul {\n",
       "  padding-left: 1.5em !important;\n",
       "  margin: 0;\n",
       "}\n",
       "\n",
       ".ee > ul {\n",
       "  padding-left: 0 !important;\n",
       "}\n",
       "\n",
       ".ee-open,\n",
       ".ee-shut {\n",
       "  color: var(--font-color-secondary);\n",
       "  cursor: pointer;\n",
       "  margin: 0;\n",
       "}\n",
       "\n",
       ".ee-open:hover,\n",
       ".ee-shut:hover {\n",
       "  color: var(--font-color-primary);\n",
       "}\n",
       "\n",
       ".ee-k {\n",
       "  color: var(--font-color-accent);\n",
       "  margin-right: 6px;\n",
       "}\n",
       "\n",
       ".ee-v {\n",
       "  color: var(--font-color-primary);\n",
       "}\n",
       "\n",
       ".ee-toggle {\n",
       "  display: none;\n",
       "}\n",
       "\n",
       ".ee-shut + ul {\n",
       "  display: none;\n",
       "}\n",
       "\n",
       ".ee-open + ul {\n",
       "  display: block;\n",
       "}\n",
       "\n",
       ".ee-shut::before {\n",
       "  display: inline-block;\n",
       "  content: \"▼\";\n",
       "  margin-right: 6px;\n",
       "  transform: rotate(-90deg);\n",
       "  transition: transform 0.2s;\n",
       "}\n",
       "\n",
       ".ee-open::before {\n",
       "  transform: rotate(0deg);\n",
       "  display: inline-block;\n",
       "  content: \"▼\";\n",
       "  margin-right: 6px;\n",
       "  transition: transform 0.2s;\n",
       "}\n",
       "</style><div class='ee'><ul><li><label class='ee-shut'>ImageCollection users/shaoyanghe96/PMLV2_China_daily  (3 elements)<input type='checkbox' class='ee-toggle'></label><ul><li><span class='ee-k'>type:</span><span class='ee-v'>ImageCollection</span></li><li><span class='ee-k'>id:</span><span class='ee-v'>users/shaoyanghe96/PMLV2_China_daily</span></li><li><span class='ee-k'>version:</span><span class='ee-v'>1699353904487393</span></li><li><label class='ee-shut'>bands: []<input type='checkbox' class='ee-toggle'></label><ul></ul></li><li><label class='ee-shut'>properties: Object (1 property)<input type='checkbox' class='ee-toggle'></label><ul><li><span class='ee-k'>description:</span><span class='ee-v'>Meteorological input data: CMFD(2000-2018) and bias-corrected CMFD by GLDAS (2019-2020). For more information please refer to:\n",
       "He, S., Zhang, Y., Ma, N., Tian, J., Kong, D., Liu, C., 2022. A daily and 500 m coupled evapotranspiration and gross primary production product across China during 2000–2020. Earth Syst. Sci. Data 14, 5463–5488. https://doi.org/10.5194/essd-14-5463-2022\n",
       "</span></li></ul></li><li><label class='ee-shut'>features: List (3 elements)<input type='checkbox' class='ee-toggle'></label><ul><li><label class='ee-shut'>0: Image users/shaoyanghe96/PMLV2_China_daily/2007-01-01 (1 band)<input type='checkbox' class='ee-toggle'></label><ul><li><span class='ee-k'>type:</span><span class='ee-v'>Image</span></li><li><span class='ee-k'>id:</span><span class='ee-v'>users/shaoyanghe96/PMLV2_China_daily/2007-01-01</span></li><li><span class='ee-k'>version:</span><span class='ee-v'>1655171049646572</span></li><li><label class='ee-shut'>bands: List (1 element)<input type='checkbox' class='ee-toggle'></label><ul><li><label class='ee-shut'>0: \"ET\", int ∈ [0, 196605], EPSG:4326, 14737x8545 px<input type='checkbox' class='ee-toggle'></label><ul><li><span class='ee-k'>id:</span><span class='ee-v'>ET</span></li><li><span class='ee-k'>crs:</span><span class='ee-v'>EPSG:4326</span></li><li><label class='ee-shut'>crs_transform: List (6 elements)<input type='checkbox' class='ee-toggle'></label><ul><li><span class='ee-k'>0:</span><span class='ee-v'>0.004166666666666667</span></li><li><span class='ee-k'>1:</span><span class='ee-v'>0</span></li><li><span class='ee-k'>2:</span><span class='ee-v'>73.4</span></li><li><span class='ee-k'>3:</span><span class='ee-v'>0</span></li><li><span class='ee-k'>4:</span><span class='ee-v'>-0.004166666666666667</span></li><li><span class='ee-k'>5:</span><span class='ee-v'>53.604166666666664</span></li></ul></li><li><label class='ee-shut'>data_type: int ∈ [0, 196605]<input type='checkbox' class='ee-toggle'></label><ul><li><span class='ee-k'>type:</span><span class='ee-v'>PixelType</span></li><li><span class='ee-k'>max:</span><span class='ee-v'>196605</span></li><li><span class='ee-k'>min:</span><span class='ee-v'>0</span></li><li><span class='ee-k'>precision:</span><span class='ee-v'>int</span></li></ul></li><li><label class='ee-shut'>dimensions: [14737, 8545]<input type='checkbox' class='ee-toggle'></label><ul><li><span class='ee-k'>0:</span><span class='ee-v'>14737</span></li><li><span class='ee-k'>1:</span><span class='ee-v'>8545</span></li></ul></li></ul></li></ul></li><li><label class='ee-shut'>properties: Object (4 properties)<input type='checkbox' class='ee-toggle'></label><ul><li><span class='ee-k'>system:asset_size:</span><span class='ee-v'>66698343</span></li><li><label class='ee-shut'>system:footprint: LinearRing (19 vertices)<input type='checkbox' class='ee-toggle'></label><ul><li><span class='ee-k'>type:</span><span class='ee-v'>LinearRing</span></li><li><label class='ee-shut'>coordinates: List (19 elements)<input type='checkbox' class='ee-toggle'></label><ul><li><label class='ee-shut'>0: [126.16770835450298, 17.98374798689216]<input type='checkbox' class='ee-toggle'></label><ul><li><span class='ee-k'>0:</span><span class='ee-v'>126.16770835450298</span></li><li><span class='ee-k'>1:</span><span class='ee-v'>17.98374798689216</span></li></ul></li><li><label class='ee-shut'>1: [130.96458333882703, 17.983747999028797]<input type='checkbox' class='ee-toggle'></label><ul><li><span class='ee-k'>0:</span><span class='ee-v'>130.96458333882703</span></li><li><span class='ee-k'>1:</span><span class='ee-v'>17.983747999028797</span></li></ul></li><li><label class='ee-shut'>2: [134.80647170923274, 17.993156268678817]<input type='checkbox' class='ee-toggle'></label><ul><li><span class='ee-k'>0:</span><span class='ee-v'>134.80647170923274</span></li><li><span class='ee-k'>1:</span><span class='ee-v'>17.993156268678817</span></li></ul></li><li><label class='ee-shut'>3: [134.80911798523698, 53.606229056978776]<input type='checkbox' class='ee-toggle'></label><ul><li><span class='ee-k'>0:</span><span class='ee-v'>134.80911798523698</span></li><li><span class='ee-k'>1:</span><span class='ee-v'>53.606229056978776</span></li></ul></li><li><label class='ee-shut'>4: [127.12708331957923, 53.6062574144496]<input type='checkbox' class='ee-toggle'></label><ul><li><span class='ee-k'>0:</span><span class='ee-v'>127.12708331957923</span></li><li><span class='ee-k'>1:</span><span class='ee-v'>53.6062574144496</span></li></ul></li><li><label class='ee-shut'>5: [115.61458328056331, 53.60625739305617]<input type='checkbox' class='ee-toggle'></label><ul><li><span class='ee-k'>0:</span><span class='ee-v'>115.61458328056331</span></li><li><span class='ee-k'>1:</span><span class='ee-v'>53.60625739305617</span></li></ul></li><li><label class='ee-shut'>6: [100.26458329083957, 53.60625740096642]<input type='checkbox' class='ee-toggle'></label><ul><li><span class='ee-k'>0:</span><span class='ee-v'>100.26458329083957</span></li><li><span class='ee-k'>1:</span><span class='ee-v'>53.60625740096642</span></li></ul></li><li><label class='ee-shut'>7: [85.87395837307227, 53.606257358467346]<input type='checkbox' class='ee-toggle'></label><ul><li><span class='ee-k'>0:</span><span class='ee-v'>85.87395837307227</span></li><li><span class='ee-k'>1:</span><span class='ee-v'>53.606257358467346</span></li></ul></li><li><label class='ee-shut'>8: [73.39504876826472, 53.60622904590532]<input type='checkbox' class='ee-toggle'></label><ul><li><span class='ee-k'>0:</span><span class='ee-v'>73.39504876826472</span></li><li><span class='ee-k'>1:</span><span class='ee-v'>53.60622904590532</span></li></ul></li><li><label class='ee-shut'>9: [73.39769500256618, 17.99315626720766]<input type='checkbox' class='ee-toggle'></label><ul><li><span class='ee-k'>0:</span><span class='ee-v'>73.39769500256618</span></li><li><span class='ee-k'>1:</span><span class='ee-v'>17.99315626720766</span></li></ul></li><li><label class='ee-shut'>10: [77.23958330636853, 17.983748042394836]<input type='checkbox' class='ee-toggle'></label><ul><li><span class='ee-k'>0:</span><span class='ee-v'>77.23958330636853</span></li><li><span class='ee-k'>1:</span><span class='ee-v'>17.983748042394836</span></li></ul></li><li><label class='ee-shut'>11: [82.51614586528224, 17.977257927077705]<input type='checkbox' class='ee-toggle'></label><ul><li><span class='ee-k'>0:</span><span class='ee-v'>82.51614586528224</span></li><li><span class='ee-k'>1:</span><span class='ee-v'>17.977257927077705</span></li></ul></li><li><label class='ee-shut'>12: [88.75208334879692, 17.969588356725673]<input type='checkbox' class='ee-toggle'></label><ul><li><span class='ee-k'>0:</span><span class='ee-v'>88.75208334879692</span></li><li><span class='ee-k'>1:</span><span class='ee-v'>17.969588356725673</span></li></ul></li><li><label class='ee-shut'>13: [94.98802083878665, 17.977257989632918]<input type='checkbox' class='ee-toggle'></label><ul><li><span class='ee-k'>0:</span><span class='ee-v'>94.98802083878665</span></li><li><span class='ee-k'>1:</span><span class='ee-v'>17.977257989632918</span></li></ul></li><li><label class='ee-shut'>14: [101.70364583349793, 17.96073940983618]<input type='checkbox' class='ee-toggle'></label><ul><li><span class='ee-k'>0:</span><span class='ee-v'>101.70364583349793</span></li><li><span class='ee-k'>1:</span><span class='ee-v'>17.96073940983618</span></li></ul></li><li><label class='ee-shut'>15: [108.89895833404846, 17.969588379651693]<input type='checkbox' class='ee-toggle'></label><ul><li><span class='ee-k'>0:</span><span class='ee-v'>108.89895833404846</span></li><li><span class='ee-k'>1:</span><span class='ee-v'>17.969588379651693</span></li></ul></li><li><label class='ee-shut'>16: [114.6552083672913, 17.98374803260451]<input type='checkbox' class='ee-toggle'></label><ul><li><span class='ee-k'>0:</span><span class='ee-v'>114.6552083672913</span></li><li><span class='ee-k'>1:</span><span class='ee-v'>17.98374803260451</span></li></ul></li><li><label class='ee-shut'>17: [120.41145830824128, 17.969588397315952]<input type='checkbox' class='ee-toggle'></label><ul><li><span class='ee-k'>0:</span><span class='ee-v'>120.41145830824128</span></li><li><span class='ee-k'>1:</span><span class='ee-v'>17.969588397315952</span></li></ul></li><li><label class='ee-shut'>18: [126.16770835450298, 17.98374798689216]<input type='checkbox' class='ee-toggle'></label><ul><li><span class='ee-k'>0:</span><span class='ee-v'>126.16770835450298</span></li><li><span class='ee-k'>1:</span><span class='ee-v'>17.98374798689216</span></li></ul></li></ul></li></ul></li><li><span class='ee-k'>system:index:</span><span class='ee-v'>2007-01-01</span></li><li><span class='ee-k'>system:time_start:</span><span class='ee-v'>1167609600000</span></li></ul></li></ul></li><li><label class='ee-shut'>1: Image users/shaoyanghe96/PMLV2_China_daily/2007-01-02 (1 band)<input type='checkbox' class='ee-toggle'></label><ul><li><span class='ee-k'>type:</span><span class='ee-v'>Image</span></li><li><span class='ee-k'>id:</span><span class='ee-v'>users/shaoyanghe96/PMLV2_China_daily/2007-01-02</span></li><li><span class='ee-k'>version:</span><span class='ee-v'>1655171030931957</span></li><li><label class='ee-shut'>bands: List (1 element)<input type='checkbox' class='ee-toggle'></label><ul><li><label class='ee-shut'>0: \"ET\", int ∈ [0, 196605], EPSG:4326, 14737x8545 px<input type='checkbox' class='ee-toggle'></label><ul><li><span class='ee-k'>id:</span><span class='ee-v'>ET</span></li><li><span class='ee-k'>crs:</span><span class='ee-v'>EPSG:4326</span></li><li><label class='ee-shut'>crs_transform: List (6 elements)<input type='checkbox' class='ee-toggle'></label><ul><li><span class='ee-k'>0:</span><span class='ee-v'>0.004166666666666667</span></li><li><span class='ee-k'>1:</span><span class='ee-v'>0</span></li><li><span class='ee-k'>2:</span><span class='ee-v'>73.4</span></li><li><span class='ee-k'>3:</span><span class='ee-v'>0</span></li><li><span class='ee-k'>4:</span><span class='ee-v'>-0.004166666666666667</span></li><li><span class='ee-k'>5:</span><span class='ee-v'>53.604166666666664</span></li></ul></li><li><label class='ee-shut'>data_type: int ∈ [0, 196605]<input type='checkbox' class='ee-toggle'></label><ul><li><span class='ee-k'>type:</span><span class='ee-v'>PixelType</span></li><li><span class='ee-k'>max:</span><span class='ee-v'>196605</span></li><li><span class='ee-k'>min:</span><span class='ee-v'>0</span></li><li><span class='ee-k'>precision:</span><span class='ee-v'>int</span></li></ul></li><li><label class='ee-shut'>dimensions: [14737, 8545]<input type='checkbox' class='ee-toggle'></label><ul><li><span class='ee-k'>0:</span><span class='ee-v'>14737</span></li><li><span class='ee-k'>1:</span><span class='ee-v'>8545</span></li></ul></li></ul></li></ul></li><li><label class='ee-shut'>properties: Object (4 properties)<input type='checkbox' class='ee-toggle'></label><ul><li><span class='ee-k'>system:asset_size:</span><span class='ee-v'>71622597</span></li><li><label class='ee-shut'>system:footprint: LinearRing (19 vertices)<input type='checkbox' class='ee-toggle'></label><ul><li><span class='ee-k'>type:</span><span class='ee-v'>LinearRing</span></li><li><label class='ee-shut'>coordinates: List (19 elements)<input type='checkbox' class='ee-toggle'></label><ul><li><label class='ee-shut'>0: [126.16770835450298, 17.98374798689216]<input type='checkbox' class='ee-toggle'></label><ul><li><span class='ee-k'>0:</span><span class='ee-v'>126.16770835450298</span></li><li><span class='ee-k'>1:</span><span class='ee-v'>17.98374798689216</span></li></ul></li><li><label class='ee-shut'>1: [130.96458333882703, 17.983747999028797]<input type='checkbox' class='ee-toggle'></label><ul><li><span class='ee-k'>0:</span><span class='ee-v'>130.96458333882703</span></li><li><span class='ee-k'>1:</span><span class='ee-v'>17.983747999028797</span></li></ul></li><li><label class='ee-shut'>2: [134.80647170923274, 17.993156268678817]<input type='checkbox' class='ee-toggle'></label><ul><li><span class='ee-k'>0:</span><span class='ee-v'>134.80647170923274</span></li><li><span class='ee-k'>1:</span><span class='ee-v'>17.993156268678817</span></li></ul></li><li><label class='ee-shut'>3: [134.80911798523698, 53.606229056978776]<input type='checkbox' class='ee-toggle'></label><ul><li><span class='ee-k'>0:</span><span class='ee-v'>134.80911798523698</span></li><li><span class='ee-k'>1:</span><span class='ee-v'>53.606229056978776</span></li></ul></li><li><label class='ee-shut'>4: [127.12708331957923, 53.6062574144496]<input type='checkbox' class='ee-toggle'></label><ul><li><span class='ee-k'>0:</span><span class='ee-v'>127.12708331957923</span></li><li><span class='ee-k'>1:</span><span class='ee-v'>53.6062574144496</span></li></ul></li><li><label class='ee-shut'>5: [115.61458328056331, 53.60625739305617]<input type='checkbox' class='ee-toggle'></label><ul><li><span class='ee-k'>0:</span><span class='ee-v'>115.61458328056331</span></li><li><span class='ee-k'>1:</span><span class='ee-v'>53.60625739305617</span></li></ul></li><li><label class='ee-shut'>6: [100.26458329083957, 53.60625740096642]<input type='checkbox' class='ee-toggle'></label><ul><li><span class='ee-k'>0:</span><span class='ee-v'>100.26458329083957</span></li><li><span class='ee-k'>1:</span><span class='ee-v'>53.60625740096642</span></li></ul></li><li><label class='ee-shut'>7: [85.87395837307227, 53.606257358467346]<input type='checkbox' class='ee-toggle'></label><ul><li><span class='ee-k'>0:</span><span class='ee-v'>85.87395837307227</span></li><li><span class='ee-k'>1:</span><span class='ee-v'>53.606257358467346</span></li></ul></li><li><label class='ee-shut'>8: [73.39504876826472, 53.60622904590532]<input type='checkbox' class='ee-toggle'></label><ul><li><span class='ee-k'>0:</span><span class='ee-v'>73.39504876826472</span></li><li><span class='ee-k'>1:</span><span class='ee-v'>53.60622904590532</span></li></ul></li><li><label class='ee-shut'>9: [73.39769500256618, 17.99315626720766]<input type='checkbox' class='ee-toggle'></label><ul><li><span class='ee-k'>0:</span><span class='ee-v'>73.39769500256618</span></li><li><span class='ee-k'>1:</span><span class='ee-v'>17.99315626720766</span></li></ul></li><li><label class='ee-shut'>10: [77.23958330636853, 17.983748042394836]<input type='checkbox' class='ee-toggle'></label><ul><li><span class='ee-k'>0:</span><span class='ee-v'>77.23958330636853</span></li><li><span class='ee-k'>1:</span><span class='ee-v'>17.983748042394836</span></li></ul></li><li><label class='ee-shut'>11: [82.51614586528224, 17.977257927077705]<input type='checkbox' class='ee-toggle'></label><ul><li><span class='ee-k'>0:</span><span class='ee-v'>82.51614586528224</span></li><li><span class='ee-k'>1:</span><span class='ee-v'>17.977257927077705</span></li></ul></li><li><label class='ee-shut'>12: [88.75208334879692, 17.969588356725673]<input type='checkbox' class='ee-toggle'></label><ul><li><span class='ee-k'>0:</span><span class='ee-v'>88.75208334879692</span></li><li><span class='ee-k'>1:</span><span class='ee-v'>17.969588356725673</span></li></ul></li><li><label class='ee-shut'>13: [94.98802083878665, 17.977257989632918]<input type='checkbox' class='ee-toggle'></label><ul><li><span class='ee-k'>0:</span><span class='ee-v'>94.98802083878665</span></li><li><span class='ee-k'>1:</span><span class='ee-v'>17.977257989632918</span></li></ul></li><li><label class='ee-shut'>14: [101.70364583349793, 17.96073940983618]<input type='checkbox' class='ee-toggle'></label><ul><li><span class='ee-k'>0:</span><span class='ee-v'>101.70364583349793</span></li><li><span class='ee-k'>1:</span><span class='ee-v'>17.96073940983618</span></li></ul></li><li><label class='ee-shut'>15: [108.89895833404846, 17.969588379651693]<input type='checkbox' class='ee-toggle'></label><ul><li><span class='ee-k'>0:</span><span class='ee-v'>108.89895833404846</span></li><li><span class='ee-k'>1:</span><span class='ee-v'>17.969588379651693</span></li></ul></li><li><label class='ee-shut'>16: [114.6552083672913, 17.98374803260451]<input type='checkbox' class='ee-toggle'></label><ul><li><span class='ee-k'>0:</span><span class='ee-v'>114.6552083672913</span></li><li><span class='ee-k'>1:</span><span class='ee-v'>17.98374803260451</span></li></ul></li><li><label class='ee-shut'>17: [120.41145830824128, 17.969588397315952]<input type='checkbox' class='ee-toggle'></label><ul><li><span class='ee-k'>0:</span><span class='ee-v'>120.41145830824128</span></li><li><span class='ee-k'>1:</span><span class='ee-v'>17.969588397315952</span></li></ul></li><li><label class='ee-shut'>18: [126.16770835450298, 17.98374798689216]<input type='checkbox' class='ee-toggle'></label><ul><li><span class='ee-k'>0:</span><span class='ee-v'>126.16770835450298</span></li><li><span class='ee-k'>1:</span><span class='ee-v'>17.98374798689216</span></li></ul></li></ul></li></ul></li><li><span class='ee-k'>system:index:</span><span class='ee-v'>2007-01-02</span></li><li><span class='ee-k'>system:time_start:</span><span class='ee-v'>1167696000000</span></li></ul></li></ul></li><li><label class='ee-shut'>2: Image users/shaoyanghe96/PMLV2_China_daily/2007-01-03 (1 band)<input type='checkbox' class='ee-toggle'></label><ul><li><span class='ee-k'>type:</span><span class='ee-v'>Image</span></li><li><span class='ee-k'>id:</span><span class='ee-v'>users/shaoyanghe96/PMLV2_China_daily/2007-01-03</span></li><li><span class='ee-k'>version:</span><span class='ee-v'>1655171201296618</span></li><li><label class='ee-shut'>bands: List (1 element)<input type='checkbox' class='ee-toggle'></label><ul><li><label class='ee-shut'>0: \"ET\", int ∈ [0, 196605], EPSG:4326, 14737x8545 px<input type='checkbox' class='ee-toggle'></label><ul><li><span class='ee-k'>id:</span><span class='ee-v'>ET</span></li><li><span class='ee-k'>crs:</span><span class='ee-v'>EPSG:4326</span></li><li><label class='ee-shut'>crs_transform: List (6 elements)<input type='checkbox' class='ee-toggle'></label><ul><li><span class='ee-k'>0:</span><span class='ee-v'>0.004166666666666667</span></li><li><span class='ee-k'>1:</span><span class='ee-v'>0</span></li><li><span class='ee-k'>2:</span><span class='ee-v'>73.4</span></li><li><span class='ee-k'>3:</span><span class='ee-v'>0</span></li><li><span class='ee-k'>4:</span><span class='ee-v'>-0.004166666666666667</span></li><li><span class='ee-k'>5:</span><span class='ee-v'>53.604166666666664</span></li></ul></li><li><label class='ee-shut'>data_type: int ∈ [0, 196605]<input type='checkbox' class='ee-toggle'></label><ul><li><span class='ee-k'>type:</span><span class='ee-v'>PixelType</span></li><li><span class='ee-k'>max:</span><span class='ee-v'>196605</span></li><li><span class='ee-k'>min:</span><span class='ee-v'>0</span></li><li><span class='ee-k'>precision:</span><span class='ee-v'>int</span></li></ul></li><li><label class='ee-shut'>dimensions: [14737, 8545]<input type='checkbox' class='ee-toggle'></label><ul><li><span class='ee-k'>0:</span><span class='ee-v'>14737</span></li><li><span class='ee-k'>1:</span><span class='ee-v'>8545</span></li></ul></li></ul></li></ul></li><li><label class='ee-shut'>properties: Object (4 properties)<input type='checkbox' class='ee-toggle'></label><ul><li><span class='ee-k'>system:asset_size:</span><span class='ee-v'>70822135</span></li><li><label class='ee-shut'>system:footprint: LinearRing (19 vertices)<input type='checkbox' class='ee-toggle'></label><ul><li><span class='ee-k'>type:</span><span class='ee-v'>LinearRing</span></li><li><label class='ee-shut'>coordinates: List (19 elements)<input type='checkbox' class='ee-toggle'></label><ul><li><label class='ee-shut'>0: [126.16770835450298, 17.98374798689216]<input type='checkbox' class='ee-toggle'></label><ul><li><span class='ee-k'>0:</span><span class='ee-v'>126.16770835450298</span></li><li><span class='ee-k'>1:</span><span class='ee-v'>17.98374798689216</span></li></ul></li><li><label class='ee-shut'>1: [130.96458333882703, 17.983747999028797]<input type='checkbox' class='ee-toggle'></label><ul><li><span class='ee-k'>0:</span><span class='ee-v'>130.96458333882703</span></li><li><span class='ee-k'>1:</span><span class='ee-v'>17.983747999028797</span></li></ul></li><li><label class='ee-shut'>2: [134.80647170923274, 17.993156268678817]<input type='checkbox' class='ee-toggle'></label><ul><li><span class='ee-k'>0:</span><span class='ee-v'>134.80647170923274</span></li><li><span class='ee-k'>1:</span><span class='ee-v'>17.993156268678817</span></li></ul></li><li><label class='ee-shut'>3: [134.80911798523698, 53.606229056978776]<input type='checkbox' class='ee-toggle'></label><ul><li><span class='ee-k'>0:</span><span class='ee-v'>134.80911798523698</span></li><li><span class='ee-k'>1:</span><span class='ee-v'>53.606229056978776</span></li></ul></li><li><label class='ee-shut'>4: [127.12708331957923, 53.6062574144496]<input type='checkbox' class='ee-toggle'></label><ul><li><span class='ee-k'>0:</span><span class='ee-v'>127.12708331957923</span></li><li><span class='ee-k'>1:</span><span class='ee-v'>53.6062574144496</span></li></ul></li><li><label class='ee-shut'>5: [115.61458328056331, 53.60625739305617]<input type='checkbox' class='ee-toggle'></label><ul><li><span class='ee-k'>0:</span><span class='ee-v'>115.61458328056331</span></li><li><span class='ee-k'>1:</span><span class='ee-v'>53.60625739305617</span></li></ul></li><li><label class='ee-shut'>6: [100.26458329083957, 53.60625740096642]<input type='checkbox' class='ee-toggle'></label><ul><li><span class='ee-k'>0:</span><span class='ee-v'>100.26458329083957</span></li><li><span class='ee-k'>1:</span><span class='ee-v'>53.60625740096642</span></li></ul></li><li><label class='ee-shut'>7: [85.87395837307227, 53.606257358467346]<input type='checkbox' class='ee-toggle'></label><ul><li><span class='ee-k'>0:</span><span class='ee-v'>85.87395837307227</span></li><li><span class='ee-k'>1:</span><span class='ee-v'>53.606257358467346</span></li></ul></li><li><label class='ee-shut'>8: [73.39504876826472, 53.60622904590532]<input type='checkbox' class='ee-toggle'></label><ul><li><span class='ee-k'>0:</span><span class='ee-v'>73.39504876826472</span></li><li><span class='ee-k'>1:</span><span class='ee-v'>53.60622904590532</span></li></ul></li><li><label class='ee-shut'>9: [73.39769500256618, 17.99315626720766]<input type='checkbox' class='ee-toggle'></label><ul><li><span class='ee-k'>0:</span><span class='ee-v'>73.39769500256618</span></li><li><span class='ee-k'>1:</span><span class='ee-v'>17.99315626720766</span></li></ul></li><li><label class='ee-shut'>10: [77.23958330636853, 17.983748042394836]<input type='checkbox' class='ee-toggle'></label><ul><li><span class='ee-k'>0:</span><span class='ee-v'>77.23958330636853</span></li><li><span class='ee-k'>1:</span><span class='ee-v'>17.983748042394836</span></li></ul></li><li><label class='ee-shut'>11: [82.51614586528224, 17.977257927077705]<input type='checkbox' class='ee-toggle'></label><ul><li><span class='ee-k'>0:</span><span class='ee-v'>82.51614586528224</span></li><li><span class='ee-k'>1:</span><span class='ee-v'>17.977257927077705</span></li></ul></li><li><label class='ee-shut'>12: [88.75208334879692, 17.969588356725673]<input type='checkbox' class='ee-toggle'></label><ul><li><span class='ee-k'>0:</span><span class='ee-v'>88.75208334879692</span></li><li><span class='ee-k'>1:</span><span class='ee-v'>17.969588356725673</span></li></ul></li><li><label class='ee-shut'>13: [94.98802083878665, 17.977257989632918]<input type='checkbox' class='ee-toggle'></label><ul><li><span class='ee-k'>0:</span><span class='ee-v'>94.98802083878665</span></li><li><span class='ee-k'>1:</span><span class='ee-v'>17.977257989632918</span></li></ul></li><li><label class='ee-shut'>14: [101.70364583349793, 17.96073940983618]<input type='checkbox' class='ee-toggle'></label><ul><li><span class='ee-k'>0:</span><span class='ee-v'>101.70364583349793</span></li><li><span class='ee-k'>1:</span><span class='ee-v'>17.96073940983618</span></li></ul></li><li><label class='ee-shut'>15: [108.89895833404846, 17.969588379651693]<input type='checkbox' class='ee-toggle'></label><ul><li><span class='ee-k'>0:</span><span class='ee-v'>108.89895833404846</span></li><li><span class='ee-k'>1:</span><span class='ee-v'>17.969588379651693</span></li></ul></li><li><label class='ee-shut'>16: [114.6552083672913, 17.98374803260451]<input type='checkbox' class='ee-toggle'></label><ul><li><span class='ee-k'>0:</span><span class='ee-v'>114.6552083672913</span></li><li><span class='ee-k'>1:</span><span class='ee-v'>17.98374803260451</span></li></ul></li><li><label class='ee-shut'>17: [120.41145830824128, 17.969588397315952]<input type='checkbox' class='ee-toggle'></label><ul><li><span class='ee-k'>0:</span><span class='ee-v'>120.41145830824128</span></li><li><span class='ee-k'>1:</span><span class='ee-v'>17.969588397315952</span></li></ul></li><li><label class='ee-shut'>18: [126.16770835450298, 17.98374798689216]<input type='checkbox' class='ee-toggle'></label><ul><li><span class='ee-k'>0:</span><span class='ee-v'>126.16770835450298</span></li><li><span class='ee-k'>1:</span><span class='ee-v'>17.98374798689216</span></li></ul></li></ul></li></ul></li><li><span class='ee-k'>system:index:</span><span class='ee-v'>2007-01-03</span></li><li><span class='ee-k'>system:time_start:</span><span class='ee-v'>1167782400000</span></li></ul></li></ul></li></ul></li></ul></li></ul></div><script>function toggleHeader() {\n",
       "    const parent = this.parentElement;\n",
       "    parent.className = parent.className === \"ee-open\" ? \"ee-shut\" : \"ee-open\";\n",
       "}\n",
       "\n",
       "for (let c of document.getElementsByClassName(\"ee-toggle\")) {\n",
       "    c.onclick = toggleHeader;\n",
       "}</script></div>"
      ],
      "text/plain": [
       "<ee.imagecollection.ImageCollection at 0x1a670520a00>"
      ]
     },
     "execution_count": 4,
     "metadata": {},
     "output_type": "execute_result"
    }
   ],
   "source": [
    "filter = ee.Filter.date(\"2007-01-01\", \"2018-12-31\")\n",
    "\n",
    "def tidy_pml(id):\n",
    "    return ee.ImageCollection(id).filter(filter).map(cal_ETsum)\n",
    "\n",
    "col_pml_v014 = tidy_pml(\"projects/pml_evapotranspiration/PML/OUTPUT/PML_V2_8day_v014\")\n",
    "col_pml_v017 = tidy_pml(\"CAS/IGSNRR/PML/V2_v017\")\n",
    "col_pml_china = tidy_pml(\"users/shaoyanghe96/PMLV2_China_daily\")\n",
    "\n",
    "col_pml_china.limit(3)\n",
    "# col_pml_v014 = col_pml_v014.map(cal_ETsum)"
   ]
  },
  {
   "cell_type": "code",
   "execution_count": null,
   "id": "bd633754-6501-4ed0-bb1d-0bb4749afecd",
   "metadata": {},
   "outputs": [],
   "source": [
    "%%time\n",
    "col_export_points(point, col_pml_v014, \"栾城_PMLV2_014\")\n",
    "col_export_points(point, col_pml_v017, \"栾城_PMLV2_017\")\n",
    "col_export_points(point, col_pml_china, \"栾城_PMLV2_China\")\n"
   ]
  },
  {
   "cell_type": "code",
   "execution_count": 5,
   "id": "841c72f8-ef94-4321-85d0-ee710c419b39",
   "metadata": {
    "scrolled": true
   },
   "outputs": [
    {
     "data": {
      "text/html": [
       "\n",
       "            <style>\n",
       "                .geemap-dark {\n",
       "                    --jp-widgets-color: white;\n",
       "                    --jp-widgets-label-color: white;\n",
       "                    --jp-ui-font-color1: white;\n",
       "                    --jp-layout-color2: #454545;\n",
       "                    background-color: #383838;\n",
       "                }\n",
       "\n",
       "                .geemap-dark .jupyter-button {\n",
       "                    --jp-layout-color3: #383838;\n",
       "                }\n",
       "\n",
       "                .geemap-colab {\n",
       "                    background-color: var(--colab-primary-surface-color, white);\n",
       "                }\n",
       "\n",
       "                .geemap-colab .jupyter-button {\n",
       "                    --jp-layout-color3: var(--colab-primary-surface-color, white);\n",
       "                }\n",
       "            </style>\n",
       "            "
      ],
      "text/plain": [
       "<IPython.core.display.HTML object>"
      ]
     },
     "metadata": {},
     "output_type": "display_data"
    }
   ],
   "source": [
    "col_lai = ee.ImageCollection('MODIS/061/MOD15A2H') \\\n",
    "    .filter(filter) \\\n",
    "    .select(['Lai_500m'], ['LAI'])\n",
    "\n",
    "vis_lai = {\n",
    "    \"min\": 0, \n",
    "    \"max\": 20, \n",
    "    \"palette\": [\"red\", \"blue\", \"green\"]\n",
    "}\n",
    "# map = geemap.Map()\n",
    "# map.addLayer(col_lai, vis_lai, \"lai\")\n",
    "# map.add_colorbar(vis_lai, label=\"LAI\", discrete=False);\n",
    "# map"
   ]
  },
  {
   "cell_type": "code",
   "execution_count": 6,
   "id": "30a95c69-d3fc-413e-a7be-8ba89290bb7f",
   "metadata": {
    "scrolled": true
   },
   "outputs": [
    {
     "data": {
      "text/html": [
       "\n",
       "            <style>\n",
       "                .geemap-dark {\n",
       "                    --jp-widgets-color: white;\n",
       "                    --jp-widgets-label-color: white;\n",
       "                    --jp-ui-font-color1: white;\n",
       "                    --jp-layout-color2: #454545;\n",
       "                    background-color: #383838;\n",
       "                }\n",
       "\n",
       "                .geemap-dark .jupyter-button {\n",
       "                    --jp-layout-color3: #383838;\n",
       "                }\n",
       "\n",
       "                .geemap-colab {\n",
       "                    background-color: var(--colab-primary-surface-color, white);\n",
       "                }\n",
       "\n",
       "                .geemap-colab .jupyter-button {\n",
       "                    --jp-layout-color3: var(--colab-primary-surface-color, white);\n",
       "                }\n",
       "            </style>\n",
       "            "
      ],
      "text/plain": [
       "<IPython.core.display.HTML object>"
      ]
     },
     "metadata": {},
     "output_type": "display_data"
    },
    {
     "data": {
      "application/vnd.jupyter.widget-view+json": {
       "model_id": "6664276f4a814366af28c166724b9ca4",
       "version_major": 2,
       "version_minor": 0
      },
      "text/plain": [
       "Map(center=[37.88333333333333, 114.68333333333334], controls=(WidgetControl(options=['position', 'transparent_…"
      ]
     },
     "execution_count": 6,
     "metadata": {},
     "output_type": "execute_result"
    }
   ],
   "source": [
    "Map = geemap.Map()\n",
    "Map.add_basemap('SATELLITE')\n",
    "Map.centerObject(point, 14)\n",
    "Map.addLayer(col_lai, vis_lai, \"lai\")\n",
    "Map.add_colorbar(vis_lai, label=\"LAI\", discrete=False);\n",
    "Map.addLayer(point, {'color': 'black', 'pointsize': 12}, 'point')\n",
    "Map.addLayer(point.buffer(1000), {'color': 'red', 'PointSize': 12}, '1km', True, 0.4)\n",
    "Map"
   ]
  },
  {
   "cell_type": "code",
   "execution_count": null,
   "id": "af8ff10c-a2ce-4224-b3ba-5814672e070e",
   "metadata": {},
   "outputs": [],
   "source": [
    "# ?ee.batch.Export.table.toDrive\n",
    "# \"CSV\" (default), \"GeoJSON\", \"KML\", \"KMZ\", \"SHP\", or \"TFRecord\"\n",
    "# ee.batch.Export.table.toDrive(res, \"temp\", folder=\"gee\", fileFormat=\"GeoJSON\").start()"
   ]
  }
 ],
 "metadata": {
  "kernelspec": {
   "display_name": "Python 3 (ipykernel)",
   "language": "python",
   "name": "python3"
  },
  "language_info": {
   "codemirror_mode": {
    "name": "ipython",
    "version": 3
   },
   "file_extension": ".py",
   "mimetype": "text/x-python",
   "name": "python",
   "nbconvert_exporter": "python",
   "pygments_lexer": "ipython3",
   "version": "3.9.15"
  }
 },
 "nbformat": 4,
 "nbformat_minor": 5
}
