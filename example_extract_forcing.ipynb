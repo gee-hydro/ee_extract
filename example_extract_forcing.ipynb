{
 "cells": [
  {
   "cell_type": "code",
   "execution_count": 2,
   "id": "c2bd3fa1-d65d-403d-b9ac-9ed737ead801",
   "metadata": {},
   "outputs": [
    {
     "name": "stdout",
     "output_type": "stream",
     "text": [
      "The autoreload extension is already loaded. To reload it, use:\n",
      "  %reload_ext autoreload\n"
     ]
    }
   ],
   "source": [
    "%load_ext autoreload\n",
    "%autoreload 2\n",
    "from ee_extract import *\n",
    "import geemap\n",
    "\n",
    "ee.Initialize()\n",
    "\n",
    "# 截取栾城的数据\n",
    "point = ee.Feature(ee.Geometry.Point([114 + 41/60, 37 + 53/60]), {'name': 'LuanCheng'})\n",
    "filter = ee.Filter.calendarRange(2007, 2018, \"year\")"
   ]
  },
  {
   "cell_type": "code",
   "execution_count": 3,
   "id": "025dd463",
   "metadata": {},
   "outputs": [
    {
     "data": {
      "text/html": [
       "\n",
       "            <style>\n",
       "                .geemap-dark {\n",
       "                    --jp-widgets-color: white;\n",
       "                    --jp-widgets-label-color: white;\n",
       "                    --jp-ui-font-color1: white;\n",
       "                    --jp-layout-color2: #454545;\n",
       "                    background-color: #383838;\n",
       "                }\n",
       "\n",
       "                .geemap-dark .jupyter-button {\n",
       "                    --jp-layout-color3: #383838;\n",
       "                }\n",
       "\n",
       "                .geemap-colab {\n",
       "                    background-color: var(--colab-primary-surface-color, white);\n",
       "                }\n",
       "\n",
       "                .geemap-colab .jupyter-button {\n",
       "                    --jp-layout-color3: var(--colab-primary-surface-color, white);\n",
       "                }\n",
       "            </style>\n",
       "            "
      ],
      "text/plain": [
       "<IPython.core.display.HTML object>"
      ]
     },
     "metadata": {},
     "output_type": "display_data"
    }
   ],
   "source": [
    "%autoreload 2\n",
    "from ee_PML import *\n",
    "from pkg_agg import *\n"
   ]
  },
  {
   "cell_type": "code",
   "execution_count": 3,
   "id": "9860e782-f17f-4e8e-b3d4-0220d6363867",
   "metadata": {},
   "outputs": [
    {
     "data": {
      "text/html": [
       "\n",
       "            <style>\n",
       "                .geemap-dark {\n",
       "                    --jp-widgets-color: white;\n",
       "                    --jp-widgets-label-color: white;\n",
       "                    --jp-ui-font-color1: white;\n",
       "                    --jp-layout-color2: #454545;\n",
       "                    background-color: #383838;\n",
       "                }\n",
       "\n",
       "                .geemap-dark .jupyter-button {\n",
       "                    --jp-layout-color3: #383838;\n",
       "                }\n",
       "\n",
       "                .geemap-colab {\n",
       "                    background-color: var(--colab-primary-surface-color, white);\n",
       "                }\n",
       "\n",
       "                .geemap-colab .jupyter-button {\n",
       "                    --jp-layout-color3: var(--colab-primary-surface-color, white);\n",
       "                }\n",
       "            </style>\n",
       "            "
      ],
      "text/plain": [
       "<IPython.core.display.HTML object>"
      ]
     },
     "metadata": {},
     "output_type": "display_data"
    },
    {
     "data": {
      "text/html": [
       "<div><style>:root {\n",
       "  --font-color-primary: var(--jp-content-font-color0, rgba(0, 0, 0, 1));\n",
       "  --font-color-secondary: var(--jp-content-font-color2, rgba(0, 0, 0, 0.6));\n",
       "  --font-color-accent: rgba(123, 31, 162, 1);\n",
       "  --border-color: var(--jp-border-color2, #e0e0e0);\n",
       "  --background-color: var(--jp-layout-color0, white);\n",
       "  --background-color-row-even: var(--jp-layout-color1, white);\n",
       "  --background-color-row-odd: var(--jp-layout-color2, #eeeeee);\n",
       "}\n",
       "\n",
       "html[theme=\"dark\"],\n",
       "body[data-theme=\"dark\"],\n",
       "body.vscode-dark {\n",
       "  --font-color-primary: rgba(255, 255, 255, 1);\n",
       "  --font-color-secondary: rgba(255, 255, 255, 0.6);\n",
       "  --font-color-accent: rgb(173, 132, 190);\n",
       "  --border-color: #2e2e2e;\n",
       "  --background-color: #111111;\n",
       "  --background-color-row-even: #111111;\n",
       "  --background-color-row-odd: #313131;\n",
       "}\n",
       "\n",
       ".ee {\n",
       "  padding: 1em;\n",
       "  line-height: 1.5em;\n",
       "  min-width: 300px;\n",
       "  max-width: 1200px;\n",
       "  overflow-y: scroll;\n",
       "  max-height: 600px;\n",
       "  border: 1px solid var(--border-color);\n",
       "  font-family: monospace;\n",
       "}\n",
       "\n",
       ".ee li {\n",
       "  list-style-type: none;\n",
       "}\n",
       "\n",
       ".ee ul {\n",
       "  padding-left: 1.5em !important;\n",
       "  margin: 0;\n",
       "}\n",
       "\n",
       ".ee > ul {\n",
       "  padding-left: 0 !important;\n",
       "}\n",
       "\n",
       ".ee-open,\n",
       ".ee-shut {\n",
       "  color: var(--font-color-secondary);\n",
       "  cursor: pointer;\n",
       "  margin: 0;\n",
       "}\n",
       "\n",
       ".ee-open:hover,\n",
       ".ee-shut:hover {\n",
       "  color: var(--font-color-primary);\n",
       "}\n",
       "\n",
       ".ee-k {\n",
       "  color: var(--font-color-accent);\n",
       "  margin-right: 6px;\n",
       "}\n",
       "\n",
       ".ee-v {\n",
       "  color: var(--font-color-primary);\n",
       "}\n",
       "\n",
       ".ee-toggle {\n",
       "  display: none;\n",
       "}\n",
       "\n",
       ".ee-shut + ul {\n",
       "  display: none;\n",
       "}\n",
       "\n",
       ".ee-open + ul {\n",
       "  display: block;\n",
       "}\n",
       "\n",
       ".ee-shut::before {\n",
       "  display: inline-block;\n",
       "  content: \"▼\";\n",
       "  margin-right: 6px;\n",
       "  transform: rotate(-90deg);\n",
       "  transition: transform 0.2s;\n",
       "}\n",
       "\n",
       ".ee-open::before {\n",
       "  transform: rotate(0deg);\n",
       "  display: inline-block;\n",
       "  content: \"▼\";\n",
       "  margin-right: 6px;\n",
       "  transition: transform 0.2s;\n",
       "}\n",
       "</style><div class='ee'><ul><li><label class='ee-shut'>ImageCollection ECMWF/ERA5_LAND/DAILY_AGGR  (1 element)<input type='checkbox' class='ee-toggle'></label><ul><li><span class='ee-k'>type:</span><span class='ee-v'>ImageCollection</span></li><li><span class='ee-k'>id:</span><span class='ee-v'>ECMWF/ERA5_LAND/DAILY_AGGR</span></li><li><span class='ee-k'>version:</span><span class='ee-v'>1715833372002191</span></li><li><label class='ee-shut'>bands: []<input type='checkbox' class='ee-toggle'></label><ul></ul></li><li><label class='ee-shut'>features: List (1 element)<input type='checkbox' class='ee-toggle'></label><ul><li><label class='ee-shut'>0: Image ECMWF/ERA5_LAND/DAILY_AGGR/20070101 (18 bands)<input type='checkbox' class='ee-toggle'></label><ul><li><span class='ee-k'>type:</span><span class='ee-v'>Image</span></li><li><span class='ee-k'>id:</span><span class='ee-v'>ECMWF/ERA5_LAND/DAILY_AGGR/20070101</span></li><li><span class='ee-k'>version:</span><span class='ee-v'>1715833372002191</span></li><li><label class='ee-shut'>bands: List (18 elements)<input type='checkbox' class='ee-toggle'></label><ul><li><label class='ee-shut'>0: \"Pa\", double, EPSG:4326, 3601x1801 px<input type='checkbox' class='ee-toggle'></label><ul><li><span class='ee-k'>id:</span><span class='ee-v'>Pa</span></li><li><span class='ee-k'>crs:</span><span class='ee-v'>EPSG:4326</span></li><li><label class='ee-shut'>crs_transform: [0.1, 0, -180.05, 0, -0.1, 90.05]<input type='checkbox' class='ee-toggle'></label><ul><li><span class='ee-k'>0:</span><span class='ee-v'>0.1</span></li><li><span class='ee-k'>1:</span><span class='ee-v'>0</span></li><li><span class='ee-k'>2:</span><span class='ee-v'>-180.05</span></li><li><span class='ee-k'>3:</span><span class='ee-v'>0</span></li><li><span class='ee-k'>4:</span><span class='ee-v'>-0.1</span></li><li><span class='ee-k'>5:</span><span class='ee-v'>90.05</span></li></ul></li><li><label class='ee-shut'>data_type: double<input type='checkbox' class='ee-toggle'></label><ul><li><span class='ee-k'>type:</span><span class='ee-v'>PixelType</span></li><li><span class='ee-k'>precision:</span><span class='ee-v'>double</span></li></ul></li><li><label class='ee-shut'>dimensions: [3601, 1801]<input type='checkbox' class='ee-toggle'></label><ul><li><span class='ee-k'>0:</span><span class='ee-v'>3601</span></li><li><span class='ee-k'>1:</span><span class='ee-v'>1801</span></li></ul></li></ul></li><li><label class='ee-shut'>1: \"prcp\", double, EPSG:4326, 3601x1801 px<input type='checkbox' class='ee-toggle'></label><ul><li><span class='ee-k'>id:</span><span class='ee-v'>prcp</span></li><li><span class='ee-k'>crs:</span><span class='ee-v'>EPSG:4326</span></li><li><label class='ee-shut'>crs_transform: [0.1, 0, -180.05, 0, -0.1, 90.05]<input type='checkbox' class='ee-toggle'></label><ul><li><span class='ee-k'>0:</span><span class='ee-v'>0.1</span></li><li><span class='ee-k'>1:</span><span class='ee-v'>0</span></li><li><span class='ee-k'>2:</span><span class='ee-v'>-180.05</span></li><li><span class='ee-k'>3:</span><span class='ee-v'>0</span></li><li><span class='ee-k'>4:</span><span class='ee-v'>-0.1</span></li><li><span class='ee-k'>5:</span><span class='ee-v'>90.05</span></li></ul></li><li><label class='ee-shut'>data_type: double<input type='checkbox' class='ee-toggle'></label><ul><li><span class='ee-k'>type:</span><span class='ee-v'>PixelType</span></li><li><span class='ee-k'>precision:</span><span class='ee-v'>double</span></li></ul></li><li><label class='ee-shut'>dimensions: [3601, 1801]<input type='checkbox' class='ee-toggle'></label><ul><li><span class='ee-k'>0:</span><span class='ee-v'>3601</span></li><li><span class='ee-k'>1:</span><span class='ee-v'>1801</span></li></ul></li></ul></li><li><label class='ee-shut'>2: \"Tdew\", double, EPSG:4326, 3601x1801 px<input type='checkbox' class='ee-toggle'></label><ul><li><span class='ee-k'>id:</span><span class='ee-v'>Tdew</span></li><li><span class='ee-k'>crs:</span><span class='ee-v'>EPSG:4326</span></li><li><label class='ee-shut'>crs_transform: [0.1, 0, -180.05, 0, -0.1, 90.05]<input type='checkbox' class='ee-toggle'></label><ul><li><span class='ee-k'>0:</span><span class='ee-v'>0.1</span></li><li><span class='ee-k'>1:</span><span class='ee-v'>0</span></li><li><span class='ee-k'>2:</span><span class='ee-v'>-180.05</span></li><li><span class='ee-k'>3:</span><span class='ee-v'>0</span></li><li><span class='ee-k'>4:</span><span class='ee-v'>-0.1</span></li><li><span class='ee-k'>5:</span><span class='ee-v'>90.05</span></li></ul></li><li><label class='ee-shut'>data_type: double<input type='checkbox' class='ee-toggle'></label><ul><li><span class='ee-k'>type:</span><span class='ee-v'>PixelType</span></li><li><span class='ee-k'>precision:</span><span class='ee-v'>double</span></li></ul></li><li><label class='ee-shut'>dimensions: [3601, 1801]<input type='checkbox' class='ee-toggle'></label><ul><li><span class='ee-k'>0:</span><span class='ee-v'>3601</span></li><li><span class='ee-k'>1:</span><span class='ee-v'>1801</span></li></ul></li></ul></li><li><label class='ee-shut'>3: \"Tmin\", double, EPSG:4326, 3601x1801 px<input type='checkbox' class='ee-toggle'></label><ul><li><span class='ee-k'>id:</span><span class='ee-v'>Tmin</span></li><li><span class='ee-k'>crs:</span><span class='ee-v'>EPSG:4326</span></li><li><label class='ee-shut'>crs_transform: [0.1, 0, -180.05, 0, -0.1, 90.05]<input type='checkbox' class='ee-toggle'></label><ul><li><span class='ee-k'>0:</span><span class='ee-v'>0.1</span></li><li><span class='ee-k'>1:</span><span class='ee-v'>0</span></li><li><span class='ee-k'>2:</span><span class='ee-v'>-180.05</span></li><li><span class='ee-k'>3:</span><span class='ee-v'>0</span></li><li><span class='ee-k'>4:</span><span class='ee-v'>-0.1</span></li><li><span class='ee-k'>5:</span><span class='ee-v'>90.05</span></li></ul></li><li><label class='ee-shut'>data_type: double<input type='checkbox' class='ee-toggle'></label><ul><li><span class='ee-k'>type:</span><span class='ee-v'>PixelType</span></li><li><span class='ee-k'>precision:</span><span class='ee-v'>double</span></li></ul></li><li><label class='ee-shut'>dimensions: [3601, 1801]<input type='checkbox' class='ee-toggle'></label><ul><li><span class='ee-k'>0:</span><span class='ee-v'>3601</span></li><li><span class='ee-k'>1:</span><span class='ee-v'>1801</span></li></ul></li></ul></li><li><label class='ee-shut'>4: \"Tmax\", double, EPSG:4326, 3601x1801 px<input type='checkbox' class='ee-toggle'></label><ul><li><span class='ee-k'>id:</span><span class='ee-v'>Tmax</span></li><li><span class='ee-k'>crs:</span><span class='ee-v'>EPSG:4326</span></li><li><label class='ee-shut'>crs_transform: [0.1, 0, -180.05, 0, -0.1, 90.05]<input type='checkbox' class='ee-toggle'></label><ul><li><span class='ee-k'>0:</span><span class='ee-v'>0.1</span></li><li><span class='ee-k'>1:</span><span class='ee-v'>0</span></li><li><span class='ee-k'>2:</span><span class='ee-v'>-180.05</span></li><li><span class='ee-k'>3:</span><span class='ee-v'>0</span></li><li><span class='ee-k'>4:</span><span class='ee-v'>-0.1</span></li><li><span class='ee-k'>5:</span><span class='ee-v'>90.05</span></li></ul></li><li><label class='ee-shut'>data_type: double<input type='checkbox' class='ee-toggle'></label><ul><li><span class='ee-k'>type:</span><span class='ee-v'>PixelType</span></li><li><span class='ee-k'>precision:</span><span class='ee-v'>double</span></li></ul></li><li><label class='ee-shut'>dimensions: [3601, 1801]<input type='checkbox' class='ee-toggle'></label><ul><li><span class='ee-k'>0:</span><span class='ee-v'>3601</span></li><li><span class='ee-k'>1:</span><span class='ee-v'>1801</span></li></ul></li></ul></li><li><label class='ee-shut'>5: \"Tavg\", double, EPSG:4326, 3601x1801 px<input type='checkbox' class='ee-toggle'></label><ul><li><span class='ee-k'>id:</span><span class='ee-v'>Tavg</span></li><li><span class='ee-k'>crs:</span><span class='ee-v'>EPSG:4326</span></li><li><label class='ee-shut'>crs_transform: [0.1, 0, -180.05, 0, -0.1, 90.05]<input type='checkbox' class='ee-toggle'></label><ul><li><span class='ee-k'>0:</span><span class='ee-v'>0.1</span></li><li><span class='ee-k'>1:</span><span class='ee-v'>0</span></li><li><span class='ee-k'>2:</span><span class='ee-v'>-180.05</span></li><li><span class='ee-k'>3:</span><span class='ee-v'>0</span></li><li><span class='ee-k'>4:</span><span class='ee-v'>-0.1</span></li><li><span class='ee-k'>5:</span><span class='ee-v'>90.05</span></li></ul></li><li><label class='ee-shut'>data_type: double<input type='checkbox' class='ee-toggle'></label><ul><li><span class='ee-k'>type:</span><span class='ee-v'>PixelType</span></li><li><span class='ee-k'>precision:</span><span class='ee-v'>double</span></li></ul></li><li><label class='ee-shut'>dimensions: [3601, 1801]<input type='checkbox' class='ee-toggle'></label><ul><li><span class='ee-k'>0:</span><span class='ee-v'>3601</span></li><li><span class='ee-k'>1:</span><span class='ee-v'>1801</span></li></ul></li></ul></li><li><label class='ee-shut'>6: \"Tsoil\", double, EPSG:4326, 3601x1801 px<input type='checkbox' class='ee-toggle'></label><ul><li><span class='ee-k'>id:</span><span class='ee-v'>Tsoil</span></li><li><span class='ee-k'>crs:</span><span class='ee-v'>EPSG:4326</span></li><li><label class='ee-shut'>crs_transform: [0.1, 0, -180.05, 0, -0.1, 90.05]<input type='checkbox' class='ee-toggle'></label><ul><li><span class='ee-k'>0:</span><span class='ee-v'>0.1</span></li><li><span class='ee-k'>1:</span><span class='ee-v'>0</span></li><li><span class='ee-k'>2:</span><span class='ee-v'>-180.05</span></li><li><span class='ee-k'>3:</span><span class='ee-v'>0</span></li><li><span class='ee-k'>4:</span><span class='ee-v'>-0.1</span></li><li><span class='ee-k'>5:</span><span class='ee-v'>90.05</span></li></ul></li><li><label class='ee-shut'>data_type: double<input type='checkbox' class='ee-toggle'></label><ul><li><span class='ee-k'>type:</span><span class='ee-v'>PixelType</span></li><li><span class='ee-k'>precision:</span><span class='ee-v'>double</span></li></ul></li><li><label class='ee-shut'>dimensions: [3601, 1801]<input type='checkbox' class='ee-toggle'></label><ul><li><span class='ee-k'>0:</span><span class='ee-v'>3601</span></li><li><span class='ee-k'>1:</span><span class='ee-v'>1801</span></li></ul></li></ul></li><li><label class='ee-shut'>7: \"Rns\", double, EPSG:4326, 3601x1801 px<input type='checkbox' class='ee-toggle'></label><ul><li><span class='ee-k'>id:</span><span class='ee-v'>Rns</span></li><li><span class='ee-k'>crs:</span><span class='ee-v'>EPSG:4326</span></li><li><label class='ee-shut'>crs_transform: [0.1, 0, -180.05, 0, -0.1, 90.05]<input type='checkbox' class='ee-toggle'></label><ul><li><span class='ee-k'>0:</span><span class='ee-v'>0.1</span></li><li><span class='ee-k'>1:</span><span class='ee-v'>0</span></li><li><span class='ee-k'>2:</span><span class='ee-v'>-180.05</span></li><li><span class='ee-k'>3:</span><span class='ee-v'>0</span></li><li><span class='ee-k'>4:</span><span class='ee-v'>-0.1</span></li><li><span class='ee-k'>5:</span><span class='ee-v'>90.05</span></li></ul></li><li><label class='ee-shut'>data_type: double<input type='checkbox' class='ee-toggle'></label><ul><li><span class='ee-k'>type:</span><span class='ee-v'>PixelType</span></li><li><span class='ee-k'>precision:</span><span class='ee-v'>double</span></li></ul></li><li><label class='ee-shut'>dimensions: [3601, 1801]<input type='checkbox' class='ee-toggle'></label><ul><li><span class='ee-k'>0:</span><span class='ee-v'>3601</span></li><li><span class='ee-k'>1:</span><span class='ee-v'>1801</span></li></ul></li></ul></li><li><label class='ee-shut'>8: \"Rnl\", double, EPSG:4326, 3601x1801 px<input type='checkbox' class='ee-toggle'></label><ul><li><span class='ee-k'>id:</span><span class='ee-v'>Rnl</span></li><li><span class='ee-k'>crs:</span><span class='ee-v'>EPSG:4326</span></li><li><label class='ee-shut'>crs_transform: [0.1, 0, -180.05, 0, -0.1, 90.05]<input type='checkbox' class='ee-toggle'></label><ul><li><span class='ee-k'>0:</span><span class='ee-v'>0.1</span></li><li><span class='ee-k'>1:</span><span class='ee-v'>0</span></li><li><span class='ee-k'>2:</span><span class='ee-v'>-180.05</span></li><li><span class='ee-k'>3:</span><span class='ee-v'>0</span></li><li><span class='ee-k'>4:</span><span class='ee-v'>-0.1</span></li><li><span class='ee-k'>5:</span><span class='ee-v'>90.05</span></li></ul></li><li><label class='ee-shut'>data_type: double<input type='checkbox' class='ee-toggle'></label><ul><li><span class='ee-k'>type:</span><span class='ee-v'>PixelType</span></li><li><span class='ee-k'>precision:</span><span class='ee-v'>double</span></li></ul></li><li><label class='ee-shut'>dimensions: [3601, 1801]<input type='checkbox' class='ee-toggle'></label><ul><li><span class='ee-k'>0:</span><span class='ee-v'>3601</span></li><li><span class='ee-k'>1:</span><span class='ee-v'>1801</span></li></ul></li></ul></li><li><label class='ee-shut'>9: \"Rs\", double, EPSG:4326, 3601x1801 px<input type='checkbox' class='ee-toggle'></label><ul><li><span class='ee-k'>id:</span><span class='ee-v'>Rs</span></li><li><span class='ee-k'>crs:</span><span class='ee-v'>EPSG:4326</span></li><li><label class='ee-shut'>crs_transform: [0.1, 0, -180.05, 0, -0.1, 90.05]<input type='checkbox' class='ee-toggle'></label><ul><li><span class='ee-k'>0:</span><span class='ee-v'>0.1</span></li><li><span class='ee-k'>1:</span><span class='ee-v'>0</span></li><li><span class='ee-k'>2:</span><span class='ee-v'>-180.05</span></li><li><span class='ee-k'>3:</span><span class='ee-v'>0</span></li><li><span class='ee-k'>4:</span><span class='ee-v'>-0.1</span></li><li><span class='ee-k'>5:</span><span class='ee-v'>90.05</span></li></ul></li><li><label class='ee-shut'>data_type: double<input type='checkbox' class='ee-toggle'></label><ul><li><span class='ee-k'>type:</span><span class='ee-v'>PixelType</span></li><li><span class='ee-k'>precision:</span><span class='ee-v'>double</span></li></ul></li><li><label class='ee-shut'>dimensions: [3601, 1801]<input type='checkbox' class='ee-toggle'></label><ul><li><span class='ee-k'>0:</span><span class='ee-v'>3601</span></li><li><span class='ee-k'>1:</span><span class='ee-v'>1801</span></li></ul></li></ul></li><li><label class='ee-shut'>10: \"Rln\", double, EPSG:4326, 3601x1801 px<input type='checkbox' class='ee-toggle'></label><ul><li><span class='ee-k'>id:</span><span class='ee-v'>Rln</span></li><li><span class='ee-k'>crs:</span><span class='ee-v'>EPSG:4326</span></li><li><label class='ee-shut'>crs_transform: [0.1, 0, -180.05, 0, -0.1, 90.05]<input type='checkbox' class='ee-toggle'></label><ul><li><span class='ee-k'>0:</span><span class='ee-v'>0.1</span></li><li><span class='ee-k'>1:</span><span class='ee-v'>0</span></li><li><span class='ee-k'>2:</span><span class='ee-v'>-180.05</span></li><li><span class='ee-k'>3:</span><span class='ee-v'>0</span></li><li><span class='ee-k'>4:</span><span class='ee-v'>-0.1</span></li><li><span class='ee-k'>5:</span><span class='ee-v'>90.05</span></li></ul></li><li><label class='ee-shut'>data_type: double<input type='checkbox' class='ee-toggle'></label><ul><li><span class='ee-k'>type:</span><span class='ee-v'>PixelType</span></li><li><span class='ee-k'>precision:</span><span class='ee-v'>double</span></li></ul></li><li><label class='ee-shut'>dimensions: [3601, 1801]<input type='checkbox' class='ee-toggle'></label><ul><li><span class='ee-k'>0:</span><span class='ee-v'>3601</span></li><li><span class='ee-k'>1:</span><span class='ee-v'>1801</span></li></ul></li></ul></li><li><label class='ee-shut'>11: \"uwind\", double, EPSG:4326, 3601x1801 px<input type='checkbox' class='ee-toggle'></label><ul><li><span class='ee-k'>id:</span><span class='ee-v'>uwind</span></li><li><span class='ee-k'>crs:</span><span class='ee-v'>EPSG:4326</span></li><li><label class='ee-shut'>crs_transform: [0.1, 0, -180.05, 0, -0.1, 90.05]<input type='checkbox' class='ee-toggle'></label><ul><li><span class='ee-k'>0:</span><span class='ee-v'>0.1</span></li><li><span class='ee-k'>1:</span><span class='ee-v'>0</span></li><li><span class='ee-k'>2:</span><span class='ee-v'>-180.05</span></li><li><span class='ee-k'>3:</span><span class='ee-v'>0</span></li><li><span class='ee-k'>4:</span><span class='ee-v'>-0.1</span></li><li><span class='ee-k'>5:</span><span class='ee-v'>90.05</span></li></ul></li><li><label class='ee-shut'>data_type: double<input type='checkbox' class='ee-toggle'></label><ul><li><span class='ee-k'>type:</span><span class='ee-v'>PixelType</span></li><li><span class='ee-k'>precision:</span><span class='ee-v'>double</span></li></ul></li><li><label class='ee-shut'>dimensions: [3601, 1801]<input type='checkbox' class='ee-toggle'></label><ul><li><span class='ee-k'>0:</span><span class='ee-v'>3601</span></li><li><span class='ee-k'>1:</span><span class='ee-v'>1801</span></li></ul></li></ul></li><li><label class='ee-shut'>12: \"vwind\", double, EPSG:4326, 3601x1801 px<input type='checkbox' class='ee-toggle'></label><ul><li><span class='ee-k'>id:</span><span class='ee-v'>vwind</span></li><li><span class='ee-k'>crs:</span><span class='ee-v'>EPSG:4326</span></li><li><label class='ee-shut'>crs_transform: [0.1, 0, -180.05, 0, -0.1, 90.05]<input type='checkbox' class='ee-toggle'></label><ul><li><span class='ee-k'>0:</span><span class='ee-v'>0.1</span></li><li><span class='ee-k'>1:</span><span class='ee-v'>0</span></li><li><span class='ee-k'>2:</span><span class='ee-v'>-180.05</span></li><li><span class='ee-k'>3:</span><span class='ee-v'>0</span></li><li><span class='ee-k'>4:</span><span class='ee-v'>-0.1</span></li><li><span class='ee-k'>5:</span><span class='ee-v'>90.05</span></li></ul></li><li><label class='ee-shut'>data_type: double<input type='checkbox' class='ee-toggle'></label><ul><li><span class='ee-k'>type:</span><span class='ee-v'>PixelType</span></li><li><span class='ee-k'>precision:</span><span class='ee-v'>double</span></li></ul></li><li><label class='ee-shut'>dimensions: [3601, 1801]<input type='checkbox' class='ee-toggle'></label><ul><li><span class='ee-k'>0:</span><span class='ee-v'>3601</span></li><li><span class='ee-k'>1:</span><span class='ee-v'>1801</span></li></ul></li></ul></li><li><label class='ee-shut'>13: \"PET\", double, EPSG:4326, 3601x1801 px<input type='checkbox' class='ee-toggle'></label><ul><li><span class='ee-k'>id:</span><span class='ee-v'>PET</span></li><li><span class='ee-k'>crs:</span><span class='ee-v'>EPSG:4326</span></li><li><label class='ee-shut'>crs_transform: [0.1, 0, -180.05, 0, -0.1, 90.05]<input type='checkbox' class='ee-toggle'></label><ul><li><span class='ee-k'>0:</span><span class='ee-v'>0.1</span></li><li><span class='ee-k'>1:</span><span class='ee-v'>0</span></li><li><span class='ee-k'>2:</span><span class='ee-v'>-180.05</span></li><li><span class='ee-k'>3:</span><span class='ee-v'>0</span></li><li><span class='ee-k'>4:</span><span class='ee-v'>-0.1</span></li><li><span class='ee-k'>5:</span><span class='ee-v'>90.05</span></li></ul></li><li><label class='ee-shut'>data_type: double<input type='checkbox' class='ee-toggle'></label><ul><li><span class='ee-k'>type:</span><span class='ee-v'>PixelType</span></li><li><span class='ee-k'>precision:</span><span class='ee-v'>double</span></li></ul></li><li><label class='ee-shut'>dimensions: [3601, 1801]<input type='checkbox' class='ee-toggle'></label><ul><li><span class='ee-k'>0:</span><span class='ee-v'>3601</span></li><li><span class='ee-k'>1:</span><span class='ee-v'>1801</span></li></ul></li></ul></li><li><label class='ee-shut'>14: \"ET\", double, EPSG:4326, 3601x1801 px<input type='checkbox' class='ee-toggle'></label><ul><li><span class='ee-k'>id:</span><span class='ee-v'>ET</span></li><li><span class='ee-k'>crs:</span><span class='ee-v'>EPSG:4326</span></li><li><label class='ee-shut'>crs_transform: [0.1, 0, -180.05, 0, -0.1, 90.05]<input type='checkbox' class='ee-toggle'></label><ul><li><span class='ee-k'>0:</span><span class='ee-v'>0.1</span></li><li><span class='ee-k'>1:</span><span class='ee-v'>0</span></li><li><span class='ee-k'>2:</span><span class='ee-v'>-180.05</span></li><li><span class='ee-k'>3:</span><span class='ee-v'>0</span></li><li><span class='ee-k'>4:</span><span class='ee-v'>-0.1</span></li><li><span class='ee-k'>5:</span><span class='ee-v'>90.05</span></li></ul></li><li><label class='ee-shut'>data_type: double<input type='checkbox' class='ee-toggle'></label><ul><li><span class='ee-k'>type:</span><span class='ee-v'>PixelType</span></li><li><span class='ee-k'>precision:</span><span class='ee-v'>double</span></li></ul></li><li><label class='ee-shut'>dimensions: [3601, 1801]<input type='checkbox' class='ee-toggle'></label><ul><li><span class='ee-k'>0:</span><span class='ee-v'>3601</span></li><li><span class='ee-k'>1:</span><span class='ee-v'>1801</span></li></ul></li></ul></li><li><label class='ee-shut'>15: \"Ec\", double, EPSG:4326, 3601x1801 px<input type='checkbox' class='ee-toggle'></label><ul><li><span class='ee-k'>id:</span><span class='ee-v'>Ec</span></li><li><span class='ee-k'>crs:</span><span class='ee-v'>EPSG:4326</span></li><li><label class='ee-shut'>crs_transform: [0.1, 0, -180.05, 0, -0.1, 90.05]<input type='checkbox' class='ee-toggle'></label><ul><li><span class='ee-k'>0:</span><span class='ee-v'>0.1</span></li><li><span class='ee-k'>1:</span><span class='ee-v'>0</span></li><li><span class='ee-k'>2:</span><span class='ee-v'>-180.05</span></li><li><span class='ee-k'>3:</span><span class='ee-v'>0</span></li><li><span class='ee-k'>4:</span><span class='ee-v'>-0.1</span></li><li><span class='ee-k'>5:</span><span class='ee-v'>90.05</span></li></ul></li><li><label class='ee-shut'>data_type: double<input type='checkbox' class='ee-toggle'></label><ul><li><span class='ee-k'>type:</span><span class='ee-v'>PixelType</span></li><li><span class='ee-k'>precision:</span><span class='ee-v'>double</span></li></ul></li><li><label class='ee-shut'>dimensions: [3601, 1801]<input type='checkbox' class='ee-toggle'></label><ul><li><span class='ee-k'>0:</span><span class='ee-v'>3601</span></li><li><span class='ee-k'>1:</span><span class='ee-v'>1801</span></li></ul></li></ul></li><li><label class='ee-shut'>16: \"Es\", double, EPSG:4326, 3601x1801 px<input type='checkbox' class='ee-toggle'></label><ul><li><span class='ee-k'>id:</span><span class='ee-v'>Es</span></li><li><span class='ee-k'>crs:</span><span class='ee-v'>EPSG:4326</span></li><li><label class='ee-shut'>crs_transform: [0.1, 0, -180.05, 0, -0.1, 90.05]<input type='checkbox' class='ee-toggle'></label><ul><li><span class='ee-k'>0:</span><span class='ee-v'>0.1</span></li><li><span class='ee-k'>1:</span><span class='ee-v'>0</span></li><li><span class='ee-k'>2:</span><span class='ee-v'>-180.05</span></li><li><span class='ee-k'>3:</span><span class='ee-v'>0</span></li><li><span class='ee-k'>4:</span><span class='ee-v'>-0.1</span></li><li><span class='ee-k'>5:</span><span class='ee-v'>90.05</span></li></ul></li><li><label class='ee-shut'>data_type: double<input type='checkbox' class='ee-toggle'></label><ul><li><span class='ee-k'>type:</span><span class='ee-v'>PixelType</span></li><li><span class='ee-k'>precision:</span><span class='ee-v'>double</span></li></ul></li><li><label class='ee-shut'>dimensions: [3601, 1801]<input type='checkbox' class='ee-toggle'></label><ul><li><span class='ee-k'>0:</span><span class='ee-v'>3601</span></li><li><span class='ee-k'>1:</span><span class='ee-v'>1801</span></li></ul></li></ul></li><li><label class='ee-shut'>17: \"Ei\", double, EPSG:4326, 3601x1801 px<input type='checkbox' class='ee-toggle'></label><ul><li><span class='ee-k'>id:</span><span class='ee-v'>Ei</span></li><li><span class='ee-k'>crs:</span><span class='ee-v'>EPSG:4326</span></li><li><label class='ee-shut'>crs_transform: [0.1, 0, -180.05, 0, -0.1, 90.05]<input type='checkbox' class='ee-toggle'></label><ul><li><span class='ee-k'>0:</span><span class='ee-v'>0.1</span></li><li><span class='ee-k'>1:</span><span class='ee-v'>0</span></li><li><span class='ee-k'>2:</span><span class='ee-v'>-180.05</span></li><li><span class='ee-k'>3:</span><span class='ee-v'>0</span></li><li><span class='ee-k'>4:</span><span class='ee-v'>-0.1</span></li><li><span class='ee-k'>5:</span><span class='ee-v'>90.05</span></li></ul></li><li><label class='ee-shut'>data_type: double<input type='checkbox' class='ee-toggle'></label><ul><li><span class='ee-k'>type:</span><span class='ee-v'>PixelType</span></li><li><span class='ee-k'>precision:</span><span class='ee-v'>double</span></li></ul></li><li><label class='ee-shut'>dimensions: [3601, 1801]<input type='checkbox' class='ee-toggle'></label><ul><li><span class='ee-k'>0:</span><span class='ee-v'>3601</span></li><li><span class='ee-k'>1:</span><span class='ee-v'>1801</span></li></ul></li></ul></li></ul></li><li><label class='ee-shut'>properties: Object (8 properties)<input type='checkbox' class='ee-toggle'></label><ul><li><span class='ee-k'>day:</span><span class='ee-v'>1</span></li><li><span class='ee-k'>month:</span><span class='ee-v'>1</span></li><li><span class='ee-k'>system:asset_size:</span><span class='ee-v'>943798062</span></li><li><label class='ee-shut'>system:footprint: LinearRing (5 vertices)<input type='checkbox' class='ee-toggle'></label><ul><li><span class='ee-k'>type:</span><span class='ee-v'>LinearRing</span></li><li><label class='ee-shut'>coordinates: List (5 elements)<input type='checkbox' class='ee-toggle'></label><ul><li><label class='ee-shut'>0: [-180, -90]<input type='checkbox' class='ee-toggle'></label><ul><li><span class='ee-k'>0:</span><span class='ee-v'>-180</span></li><li><span class='ee-k'>1:</span><span class='ee-v'>-90</span></li></ul></li><li><label class='ee-shut'>1: [180, -90]<input type='checkbox' class='ee-toggle'></label><ul><li><span class='ee-k'>0:</span><span class='ee-v'>180</span></li><li><span class='ee-k'>1:</span><span class='ee-v'>-90</span></li></ul></li><li><label class='ee-shut'>2: [180, 90]<input type='checkbox' class='ee-toggle'></label><ul><li><span class='ee-k'>0:</span><span class='ee-v'>180</span></li><li><span class='ee-k'>1:</span><span class='ee-v'>90</span></li></ul></li><li><label class='ee-shut'>3: [-180, 90]<input type='checkbox' class='ee-toggle'></label><ul><li><span class='ee-k'>0:</span><span class='ee-v'>-180</span></li><li><span class='ee-k'>1:</span><span class='ee-v'>90</span></li></ul></li><li><label class='ee-shut'>4: [-180, -90]<input type='checkbox' class='ee-toggle'></label><ul><li><span class='ee-k'>0:</span><span class='ee-v'>-180</span></li><li><span class='ee-k'>1:</span><span class='ee-v'>-90</span></li></ul></li></ul></li></ul></li><li><span class='ee-k'>system:index:</span><span class='ee-v'>20070101</span></li><li><span class='ee-k'>system:time_end:</span><span class='ee-v'>1167696000000</span></li><li><span class='ee-k'>system:time_start:</span><span class='ee-v'>1167609600000</span></li><li><span class='ee-k'>year:</span><span class='ee-v'>2007</span></li></ul></li></ul></li></ul></li></ul></li></ul></div><script>function toggleHeader() {\n",
       "    const parent = this.parentElement;\n",
       "    parent.className = parent.className === \"ee-open\" ? \"ee-shut\" : \"ee-open\";\n",
       "}\n",
       "\n",
       "for (let c of document.getElementsByClassName(\"ee-toggle\")) {\n",
       "    c.onclick = toggleHeader;\n",
       "}</script></div>"
      ],
      "text/plain": [
       "<ee.imagecollection.ImageCollection at 0x260aab53d90>"
      ]
     },
     "execution_count": 3,
     "metadata": {},
     "output_type": "execute_result"
    }
   ],
   "source": [
    "# ERA5L\n",
    "col_era5l = get_daily_ERA5L().filter(filter)\n",
    "col_export_points(point, col, \"data/栾城_ERA5L.csv\")"
   ]
  },
  {
   "cell_type": "code",
   "execution_count": 4,
   "id": "6dfccd7e",
   "metadata": {},
   "outputs": [
    {
     "data": {
      "text/html": [
       "\n",
       "            <style>\n",
       "                .geemap-dark {\n",
       "                    --jp-widgets-color: white;\n",
       "                    --jp-widgets-label-color: white;\n",
       "                    --jp-ui-font-color1: white;\n",
       "                    --jp-layout-color2: #454545;\n",
       "                    background-color: #383838;\n",
       "                }\n",
       "\n",
       "                .geemap-dark .jupyter-button {\n",
       "                    --jp-layout-color3: #383838;\n",
       "                }\n",
       "\n",
       "                .geemap-colab {\n",
       "                    background-color: var(--colab-primary-surface-color, white);\n",
       "                }\n",
       "\n",
       "                .geemap-colab .jupyter-button {\n",
       "                    --jp-layout-color3: var(--colab-primary-surface-color, white);\n",
       "                }\n",
       "            </style>\n",
       "            "
      ],
      "text/plain": [
       "<IPython.core.display.HTML object>"
      ]
     },
     "metadata": {},
     "output_type": "display_data"
    },
    {
     "data": {
      "text/html": [
       "<div><style>:root {\n",
       "  --font-color-primary: var(--jp-content-font-color0, rgba(0, 0, 0, 1));\n",
       "  --font-color-secondary: var(--jp-content-font-color2, rgba(0, 0, 0, 0.6));\n",
       "  --font-color-accent: rgba(123, 31, 162, 1);\n",
       "  --border-color: var(--jp-border-color2, #e0e0e0);\n",
       "  --background-color: var(--jp-layout-color0, white);\n",
       "  --background-color-row-even: var(--jp-layout-color1, white);\n",
       "  --background-color-row-odd: var(--jp-layout-color2, #eeeeee);\n",
       "}\n",
       "\n",
       "html[theme=\"dark\"],\n",
       "body[data-theme=\"dark\"],\n",
       "body.vscode-dark {\n",
       "  --font-color-primary: rgba(255, 255, 255, 1);\n",
       "  --font-color-secondary: rgba(255, 255, 255, 0.6);\n",
       "  --font-color-accent: rgb(173, 132, 190);\n",
       "  --border-color: #2e2e2e;\n",
       "  --background-color: #111111;\n",
       "  --background-color-row-even: #111111;\n",
       "  --background-color-row-odd: #313131;\n",
       "}\n",
       "\n",
       ".ee {\n",
       "  padding: 1em;\n",
       "  line-height: 1.5em;\n",
       "  min-width: 300px;\n",
       "  max-width: 1200px;\n",
       "  overflow-y: scroll;\n",
       "  max-height: 600px;\n",
       "  border: 1px solid var(--border-color);\n",
       "  font-family: monospace;\n",
       "}\n",
       "\n",
       ".ee li {\n",
       "  list-style-type: none;\n",
       "}\n",
       "\n",
       ".ee ul {\n",
       "  padding-left: 1.5em !important;\n",
       "  margin: 0;\n",
       "}\n",
       "\n",
       ".ee > ul {\n",
       "  padding-left: 0 !important;\n",
       "}\n",
       "\n",
       ".ee-open,\n",
       ".ee-shut {\n",
       "  color: var(--font-color-secondary);\n",
       "  cursor: pointer;\n",
       "  margin: 0;\n",
       "}\n",
       "\n",
       ".ee-open:hover,\n",
       ".ee-shut:hover {\n",
       "  color: var(--font-color-primary);\n",
       "}\n",
       "\n",
       ".ee-k {\n",
       "  color: var(--font-color-accent);\n",
       "  margin-right: 6px;\n",
       "}\n",
       "\n",
       ".ee-v {\n",
       "  color: var(--font-color-primary);\n",
       "}\n",
       "\n",
       ".ee-toggle {\n",
       "  display: none;\n",
       "}\n",
       "\n",
       ".ee-shut + ul {\n",
       "  display: none;\n",
       "}\n",
       "\n",
       ".ee-open + ul {\n",
       "  display: block;\n",
       "}\n",
       "\n",
       ".ee-shut::before {\n",
       "  display: inline-block;\n",
       "  content: \"▼\";\n",
       "  margin-right: 6px;\n",
       "  transform: rotate(-90deg);\n",
       "  transition: transform 0.2s;\n",
       "}\n",
       "\n",
       ".ee-open::before {\n",
       "  transform: rotate(0deg);\n",
       "  display: inline-block;\n",
       "  content: \"▼\";\n",
       "  margin-right: 6px;\n",
       "  transition: transform 0.2s;\n",
       "}\n",
       "</style><div class='ee'><ul><li><label class='ee-shut'>ImageCollection NASA/GLDAS/V021/NOAH/G025/T3H  (1 element)<input type='checkbox' class='ee-toggle'></label><ul><li><span class='ee-k'>type:</span><span class='ee-v'>ImageCollection</span></li><li><span class='ee-k'>id:</span><span class='ee-v'>NASA/GLDAS/V021/NOAH/G025/T3H</span></li><li><span class='ee-k'>version:</span><span class='ee-v'>1713390169954782</span></li><li><label class='ee-shut'>bands: []<input type='checkbox' class='ee-toggle'></label><ul></ul></li><li><label class='ee-shut'>properties: Object (24 properties)<input type='checkbox' class='ee-toggle'></label><ul><li><label class='ee-shut'>date_range: [946684800000, 1646784000000]<input type='checkbox' class='ee-toggle'></label><ul><li><span class='ee-k'>0:</span><span class='ee-v'>946684800000</span></li><li><span class='ee-k'>1:</span><span class='ee-v'>1646784000000</span></li></ul></li><li><span class='ee-k'>description:</span><span class='ee-v'><p>Global Land Data Assimilation System (GLDAS) ingests satellite and\n",
       "ground-based observational data products. Using advanced land surface\n",
       "modeling and data assimilation techniques, it generates optimal\n",
       "fields of land surface states and fluxes.</p><p>GLDAS-2.1 is one of two components of the GLDAS Version 2 (GLDAS-2) dataset,\n",
       "the second being GLDAS-2.0. GLDAS-2.1 is analogous to GLDAS-1 product stream,\n",
       "with upgraded models forced by a combination of <a href=\"https://ldas.gsfc.nasa.gov/gldas/GLDASforcing.php\">GDAS, disaggregated GPCP,\n",
       "and AGRMET radiation data sets</a>.</p><p>The GLDAS-2.1 simulation started on January 1, 2000 using the\n",
       "conditions from the GLDAS-2.0 simulation. This simulation was\n",
       "forced with National Oceanic and Atmospheric Administration\n",
       "(NOAA)/Global Data Assimilation System (GDAS) atmospheric analysis\n",
       "fields (Derber et al., 1991), the disaggregated Global Precipitation\n",
       "Climatology Project (GPCP) precipitation fields (Adler et al., 2003),\n",
       "and the Air Force Weather Agency&#39;s AGRicultural METeorological\n",
       "modeling system (AGRMET) radiation fields which became available\n",
       "for March 1, 2001 onwards.</p><p>Documentation:</p><ul><li><p><a href=\"https://hydro1.gesdisc.eosdis.nasa.gov/data/GLDAS/GLDAS_NOAH025_3H.2.1/doc/README_GLDAS2.pdf\">Redme</a></p></li><li><p><a href=\"https://disc.gsfc.nasa.gov/information/howto?tags=hydrology\">How-to</a></p></li><li><p><a href=\"https://disc.gsfc.nasa.gov/information/documents?title=Hydrology%20Documentation\">GES DISC Hydrology Documentation</a></p></li><li><p><a href=\"https://disc.gsfc.nasa.gov/information/tools?title=Hydrology%20Data%20Rods\">GES DISC Data Rods Documentation</a></p></li></ul><p><b>Provider: <a href=\"https://doi.org/10.5067/E7TYRXPJKWOQ\">NASA GES DISC at NASA Goddard Space Flight Center</a></b><br><p><b>Resolution</b><br>27830 meters\n",
       "</p><p><b>Cadence</b><br>\n",
       "  3 hours\n",
       "</p><p><b>Bands</b><table class=\"eecat\"><tr><th scope=\"col\">Name</th><th scope=\"col\">Description</th></tr><tr><td>Albedo_inst</td><td><p>Albedo</p></td></tr><tr><td>AvgSurfT_inst</td><td><p>Average surface skin temperature</p></td></tr><tr><td>CanopInt_inst</td><td><p>Plant canopy surface water</p></td></tr><tr><td>ECanop_tavg</td><td><p>Canopy water evaporation</p></td></tr><tr><td>ESoil_tavg</td><td><p>Direct evaporation from bare soil</p></td></tr><tr><td>Evap_tavg</td><td><p>Evapotranspiration</p></td></tr><tr><td>LWdown_f_tavg</td><td><p>Downward long-wave radiation flux</p></td></tr><tr><td>Lwnet_tavg</td><td><p>Net long-wave radiation flux</p></td></tr><tr><td>PotEvap_tavg</td><td><p>Potential evaporation rate</p></td></tr><tr><td>Psurf_f_inst</td><td><p>Pressure</p></td></tr><tr><td>Qair_f_inst</td><td><p>Specific humidity</p></td></tr><tr><td>Qg_tavg</td><td><p>Heat flux</p></td></tr><tr><td>Qh_tavg</td><td><p>Sensible heat net flux</p></td></tr><tr><td>Qle_tavg</td><td><p>Latent heat net flux</p></td></tr><tr><td>Qs_acc</td><td><p>Storm surface runoff</p></td></tr><tr><td>Qsb_acc</td><td><p>Baseflow-groundwater runoff</p></td></tr><tr><td>Qsm_acc</td><td><p>Snow melt</p></td></tr><tr><td>Rainf_f_tavg</td><td><p>Total precipitation rate</p></td></tr><tr><td>Rainf_tavg</td><td><p>Rain precipitation rate</p></td></tr><tr><td>RootMoist_inst</td><td><p>Root zone soil moisture</p></td></tr><tr><td>SWE_inst</td><td><p>Snow depth water equivalent</p></td></tr><tr><td>SWdown_f_tavg</td><td><p>Downward short-wave radiation flux</p></td></tr><tr><td>SnowDepth_inst</td><td><p>Snow depth</p></td></tr><tr><td>Snowf_tavg</td><td><p>Snow precipitation rate</p></td></tr><tr><td>SoilMoi0_10cm_inst</td><td><p>Soil moisture</p></td></tr><tr><td>SoilMoi10_40cm_inst</td><td><p>Soil moisture</p></td></tr><tr><td>SoilMoi40_100cm_inst</td><td><p>Soil moisture</p></td></tr><tr><td>SoilMoi100_200cm_inst</td><td><p>Soil moisture</p></td></tr><tr><td>SoilTMP0_10cm_inst</td><td><p>Soil temperature</p></td></tr><tr><td>SoilTMP10_40cm_inst</td><td><p>Soil temperature</p></td></tr><tr><td>SoilTMP40_100cm_inst</td><td><p>Soil temperature</p></td></tr><tr><td>SoilTMP100_200cm_inst</td><td><p>Soil temperature</p></td></tr><tr><td>Swnet_tavg</td><td><p>Net short wave radiation flux</p></td></tr><tr><td>Tair_f_inst</td><td><p>Air temperature</p></td></tr><tr><td>Tveg_tavg</td><td><p>Transpiration</p></td></tr><tr><td>Wind_f_inst</td><td><p>Wind speed</p></td></tr></table><p><b>Image Properties</b><table class=\"eecat\"><tr><th scope=\"col\">Name</th><th scope=\"col\">Type</th><th scope=\"col\">Description</th></tr><tr><td>end_hour</td><td>DOUBLE</td><td><p>End hour</p></td></tr><tr><td>start_hour</td><td>DOUBLE</td><td><p>Start hour</p></td></tr></table><p><sup>Provider&#39;s Note: the names with extension _tavg are variables\n",
       "averaged over the past 3-hours, the names with extension &#39;_acc&#39; are\n",
       "variables accumulated over the past 3-hours, the names with extension\n",
       "&#39;_inst&#39; are instantaneous variables, and the names with &#39;_f&#39; are\n",
       "forcing variables.</sup><p><b>Terms of Use</b><br><p>Distribution of data from the Goddard Earth Sciences\n",
       "Data and Information Services Center (GES DISC) is funded by NASA&#39;s\n",
       "Science Mission Directorate (SMD). Consistent with NASA <a href=\"https://science.nasa.gov/earth-science/earth-science-data/data-information-policy/\">Earth\n",
       "Science Data and Information Policy</a>,\n",
       "data from the GES DISC archive are available free to the user community.\n",
       "For more information visit the GES DISC <a href=\"https://disc.sci.gsfc.nasa.gov/citing\">Data Policy</a>\n",
       "page.</p><p><b>Suggested citation(s)</b><ul><li><p>Rodell, M., P.R. Houser, U. Jambor, J. Gottschalck, K. Mitchell,\n",
       "C.-J. Meng, K. Arsenault, B. Cosgrove, J. Radakovich, M. Bosilovich,\n",
       "J.K. Entin, J.P. Walker, D. Lohmann, and D. Toll, The Global Land Data\n",
       "Assimilation System, Bull. Amer. Meteor. Soc., 85(3), 381-394, 2004.</p></li><li><p><a href=\"https://ldas.gsfc.nasa.gov/gldas/GLDASpublications.php\">Additional references</a></p></li></ul><style>\n",
       "  table.eecat {\n",
       "  border: 1px solid black;\n",
       "  border-collapse: collapse;\n",
       "  font-size: 13px;\n",
       "  }\n",
       "  table.eecat td, tr, th {\n",
       "  text-align: left; vertical-align: top;\n",
       "  border: 1px solid gray; padding: 3px;\n",
       "  }\n",
       "  td.nobreak { white-space: nowrap; }\n",
       "</style></span></li><li><label class='ee-shut'>keywords: List (17 elements)<input type='checkbox' class='ee-toggle'></label><ul><li><span class='ee-k'>0:</span><span class='ee-v'>3-hourly</span></li><li><span class='ee-k'>1:</span><span class='ee-v'>climate</span></li><li><span class='ee-k'>2:</span><span class='ee-v'>evaporation</span></li><li><span class='ee-k'>3:</span><span class='ee-v'>forcing</span></li><li><span class='ee-k'>4:</span><span class='ee-v'>geophysical</span></li><li><span class='ee-k'>5:</span><span class='ee-v'>gldas</span></li><li><span class='ee-k'>6:</span><span class='ee-v'>humidity</span></li><li><span class='ee-k'>7:</span><span class='ee-v'>ldas</span></li><li><span class='ee-k'>8:</span><span class='ee-v'>moisture</span></li><li><span class='ee-k'>9:</span><span class='ee-v'>nasa</span></li><li><span class='ee-k'>10:</span><span class='ee-v'>precipitation</span></li><li><span class='ee-k'>11:</span><span class='ee-v'>pressure</span></li><li><span class='ee-k'>12:</span><span class='ee-v'>radiation</span></li><li><span class='ee-k'>13:</span><span class='ee-v'>soil</span></li><li><span class='ee-k'>14:</span><span class='ee-v'>surface</span></li><li><span class='ee-k'>15:</span><span class='ee-v'>temperature</span></li><li><span class='ee-k'>16:</span><span class='ee-v'>wind</span></li></ul></li><li><span class='ee-k'>period:</span><span class='ee-v'>0</span></li><li><label class='ee-shut'>product_tags: List (13 elements)<input type='checkbox' class='ee-toggle'></label><ul><li><span class='ee-k'>0:</span><span class='ee-v'>forcing</span></li><li><span class='ee-k'>1:</span><span class='ee-v'>wind</span></li><li><span class='ee-k'>2:</span><span class='ee-v'>temperature</span></li><li><span class='ee-k'>3:</span><span class='ee-v'>humidity</span></li><li><span class='ee-k'>4:</span><span class='ee-v'>geophysical</span></li><li><span class='ee-k'>5:</span><span class='ee-v'>soil</span></li><li><span class='ee-k'>6:</span><span class='ee-v'>moisture</span></li><li><span class='ee-k'>7:</span><span class='ee-v'>surface</span></li><li><span class='ee-k'>8:</span><span class='ee-v'>pressure</span></li><li><span class='ee-k'>9:</span><span class='ee-v'>radiation</span></li><li><span class='ee-k'>10:</span><span class='ee-v'>precipitation</span></li><li><span class='ee-k'>11:</span><span class='ee-v'>evaporation</span></li><li><span class='ee-k'>12:</span><span class='ee-v'>climate</span></li></ul></li><li><span class='ee-k'>provider:</span><span class='ee-v'>NASA GES DISC at NASA Goddard Space Flight Center</span></li><li><span class='ee-k'>provider_url:</span><span class='ee-v'>https://doi.org/10.5067/E7TYRXPJKWOQ</span></li><li><span class='ee-k'>sample:</span><span class='ee-v'>https://mw1.google.com/ges/dd/images/NASA_GLDAS_sample.png</span></li><li><label class='ee-shut'>source_tags: ['nasa', 'ldas', 'gldas', '3-hourly']<input type='checkbox' class='ee-toggle'></label><ul><li><span class='ee-k'>0:</span><span class='ee-v'>nasa</span></li><li><span class='ee-k'>1:</span><span class='ee-v'>ldas</span></li><li><span class='ee-k'>2:</span><span class='ee-v'>gldas</span></li><li><span class='ee-k'>3:</span><span class='ee-v'>3-hourly</span></li></ul></li><li><span class='ee-k'>system:is_global:</span><span class='ee-v'>1</span></li><li><span class='ee-k'>system:visualization_0_bands:</span><span class='ee-v'>AvgSurfT_inst</span></li><li><span class='ee-k'>system:visualization_0_max:</span><span class='ee-v'>300.0</span></li><li><span class='ee-k'>system:visualization_0_min:</span><span class='ee-v'>250.0</span></li><li><span class='ee-k'>system:visualization_0_name:</span><span class='ee-v'>Average Surface Skin Temperature [K]</span></li><li><span class='ee-k'>system:visualization_0_palette:</span><span class='ee-v'>1303ff,42fff6,f3ff40,ff5d0f</span></li><li><label class='ee-shut'>tags: List (17 elements)<input type='checkbox' class='ee-toggle'></label><ul><li><span class='ee-k'>0:</span><span class='ee-v'>3-hourly</span></li><li><span class='ee-k'>1:</span><span class='ee-v'>climate</span></li><li><span class='ee-k'>2:</span><span class='ee-v'>evaporation</span></li><li><span class='ee-k'>3:</span><span class='ee-v'>forcing</span></li><li><span class='ee-k'>4:</span><span class='ee-v'>geophysical</span></li><li><span class='ee-k'>5:</span><span class='ee-v'>gldas</span></li><li><span class='ee-k'>6:</span><span class='ee-v'>humidity</span></li><li><span class='ee-k'>7:</span><span class='ee-v'>ldas</span></li><li><span class='ee-k'>8:</span><span class='ee-v'>moisture</span></li><li><span class='ee-k'>9:</span><span class='ee-v'>nasa</span></li><li><span class='ee-k'>10:</span><span class='ee-v'>precipitation</span></li><li><span class='ee-k'>11:</span><span class='ee-v'>pressure</span></li><li><span class='ee-k'>12:</span><span class='ee-v'>radiation</span></li><li><span class='ee-k'>13:</span><span class='ee-v'>soil</span></li><li><span class='ee-k'>14:</span><span class='ee-v'>surface</span></li><li><span class='ee-k'>15:</span><span class='ee-v'>temperature</span></li><li><span class='ee-k'>16:</span><span class='ee-v'>wind</span></li></ul></li><li><span class='ee-k'>thumb:</span><span class='ee-v'>https://mw1.google.com/ges/dd/images/NASA_GLDAS_thumb.png</span></li><li><span class='ee-k'>title:</span><span class='ee-v'>GLDAS-2.1: Global Land Data Assimilation System</span></li><li><span class='ee-k'>type_name:</span><span class='ee-v'>ImageCollection</span></li><li><span class='ee-k'>visualization_0_bands:</span><span class='ee-v'>AvgSurfT_inst</span></li><li><span class='ee-k'>visualization_0_max:</span><span class='ee-v'>300.0</span></li><li><span class='ee-k'>visualization_0_min:</span><span class='ee-v'>250.0</span></li><li><span class='ee-k'>visualization_0_name:</span><span class='ee-v'>Average Surface Skin Temperature [K]</span></li><li><span class='ee-k'>visualization_0_palette:</span><span class='ee-v'>1303ff,42fff6,f3ff40,ff5d0f</span></li></ul></li><li><label class='ee-shut'>features: List (1 element)<input type='checkbox' class='ee-toggle'></label><ul><li><label class='ee-shut'>0: Image NASA/GLDAS/V021/NOAH/G025/T3H/A20070101_0000 (15 bands)<input type='checkbox' class='ee-toggle'></label><ul><li><span class='ee-k'>type:</span><span class='ee-v'>Image</span></li><li><span class='ee-k'>id:</span><span class='ee-v'>NASA/GLDAS/V021/NOAH/G025/T3H/A20070101_0000</span></li><li><span class='ee-k'>version:</span><span class='ee-v'>1629534690435394</span></li><li><label class='ee-shut'>bands: List (15 elements)<input type='checkbox' class='ee-toggle'></label><ul><li><label class='ee-shut'>0: \"prcp\", float, EPSG:4326, 1440x600 px<input type='checkbox' class='ee-toggle'></label><ul><li><span class='ee-k'>id:</span><span class='ee-v'>prcp</span></li><li><span class='ee-k'>crs:</span><span class='ee-v'>EPSG:4326</span></li><li><label class='ee-shut'>crs_transform: [0.25, 0, -180, 0, -0.25, 90]<input type='checkbox' class='ee-toggle'></label><ul><li><span class='ee-k'>0:</span><span class='ee-v'>0.25</span></li><li><span class='ee-k'>1:</span><span class='ee-v'>0</span></li><li><span class='ee-k'>2:</span><span class='ee-v'>-180</span></li><li><span class='ee-k'>3:</span><span class='ee-v'>0</span></li><li><span class='ee-k'>4:</span><span class='ee-v'>-0.25</span></li><li><span class='ee-k'>5:</span><span class='ee-v'>90</span></li></ul></li><li><label class='ee-shut'>data_type: float<input type='checkbox' class='ee-toggle'></label><ul><li><span class='ee-k'>type:</span><span class='ee-v'>PixelType</span></li><li><span class='ee-k'>precision:</span><span class='ee-v'>float</span></li></ul></li><li><label class='ee-shut'>dimensions: [1440, 600]<input type='checkbox' class='ee-toggle'></label><ul><li><span class='ee-k'>0:</span><span class='ee-v'>1440</span></li><li><span class='ee-k'>1:</span><span class='ee-v'>600</span></li></ul></li></ul></li><li><label class='ee-shut'>1: \"Rln\", float, EPSG:4326, 1440x600 px<input type='checkbox' class='ee-toggle'></label><ul><li><span class='ee-k'>id:</span><span class='ee-v'>Rln</span></li><li><span class='ee-k'>crs:</span><span class='ee-v'>EPSG:4326</span></li><li><label class='ee-shut'>crs_transform: [0.25, 0, -180, 0, -0.25, 90]<input type='checkbox' class='ee-toggle'></label><ul><li><span class='ee-k'>0:</span><span class='ee-v'>0.25</span></li><li><span class='ee-k'>1:</span><span class='ee-v'>0</span></li><li><span class='ee-k'>2:</span><span class='ee-v'>-180</span></li><li><span class='ee-k'>3:</span><span class='ee-v'>0</span></li><li><span class='ee-k'>4:</span><span class='ee-v'>-0.25</span></li><li><span class='ee-k'>5:</span><span class='ee-v'>90</span></li></ul></li><li><label class='ee-shut'>data_type: float<input type='checkbox' class='ee-toggle'></label><ul><li><span class='ee-k'>type:</span><span class='ee-v'>PixelType</span></li><li><span class='ee-k'>precision:</span><span class='ee-v'>float</span></li></ul></li><li><label class='ee-shut'>dimensions: [1440, 600]<input type='checkbox' class='ee-toggle'></label><ul><li><span class='ee-k'>0:</span><span class='ee-v'>1440</span></li><li><span class='ee-k'>1:</span><span class='ee-v'>600</span></li></ul></li></ul></li><li><label class='ee-shut'>2: \"Rnl\", float, EPSG:4326, 1440x600 px<input type='checkbox' class='ee-toggle'></label><ul><li><span class='ee-k'>id:</span><span class='ee-v'>Rnl</span></li><li><span class='ee-k'>crs:</span><span class='ee-v'>EPSG:4326</span></li><li><label class='ee-shut'>crs_transform: [0.25, 0, -180, 0, -0.25, 90]<input type='checkbox' class='ee-toggle'></label><ul><li><span class='ee-k'>0:</span><span class='ee-v'>0.25</span></li><li><span class='ee-k'>1:</span><span class='ee-v'>0</span></li><li><span class='ee-k'>2:</span><span class='ee-v'>-180</span></li><li><span class='ee-k'>3:</span><span class='ee-v'>0</span></li><li><span class='ee-k'>4:</span><span class='ee-v'>-0.25</span></li><li><span class='ee-k'>5:</span><span class='ee-v'>90</span></li></ul></li><li><label class='ee-shut'>data_type: float<input type='checkbox' class='ee-toggle'></label><ul><li><span class='ee-k'>type:</span><span class='ee-v'>PixelType</span></li><li><span class='ee-k'>precision:</span><span class='ee-v'>float</span></li></ul></li><li><label class='ee-shut'>dimensions: [1440, 600]<input type='checkbox' class='ee-toggle'></label><ul><li><span class='ee-k'>0:</span><span class='ee-v'>1440</span></li><li><span class='ee-k'>1:</span><span class='ee-v'>600</span></li></ul></li></ul></li><li><label class='ee-shut'>3: \"Rs\", float, EPSG:4326, 1440x600 px<input type='checkbox' class='ee-toggle'></label><ul><li><span class='ee-k'>id:</span><span class='ee-v'>Rs</span></li><li><span class='ee-k'>crs:</span><span class='ee-v'>EPSG:4326</span></li><li><label class='ee-shut'>crs_transform: [0.25, 0, -180, 0, -0.25, 90]<input type='checkbox' class='ee-toggle'></label><ul><li><span class='ee-k'>0:</span><span class='ee-v'>0.25</span></li><li><span class='ee-k'>1:</span><span class='ee-v'>0</span></li><li><span class='ee-k'>2:</span><span class='ee-v'>-180</span></li><li><span class='ee-k'>3:</span><span class='ee-v'>0</span></li><li><span class='ee-k'>4:</span><span class='ee-v'>-0.25</span></li><li><span class='ee-k'>5:</span><span class='ee-v'>90</span></li></ul></li><li><label class='ee-shut'>data_type: float<input type='checkbox' class='ee-toggle'></label><ul><li><span class='ee-k'>type:</span><span class='ee-v'>PixelType</span></li><li><span class='ee-k'>precision:</span><span class='ee-v'>float</span></li></ul></li><li><label class='ee-shut'>dimensions: [1440, 600]<input type='checkbox' class='ee-toggle'></label><ul><li><span class='ee-k'>0:</span><span class='ee-v'>1440</span></li><li><span class='ee-k'>1:</span><span class='ee-v'>600</span></li></ul></li></ul></li><li><label class='ee-shut'>4: \"Rns\", float, EPSG:4326, 1440x600 px<input type='checkbox' class='ee-toggle'></label><ul><li><span class='ee-k'>id:</span><span class='ee-v'>Rns</span></li><li><span class='ee-k'>crs:</span><span class='ee-v'>EPSG:4326</span></li><li><label class='ee-shut'>crs_transform: [0.25, 0, -180, 0, -0.25, 90]<input type='checkbox' class='ee-toggle'></label><ul><li><span class='ee-k'>0:</span><span class='ee-v'>0.25</span></li><li><span class='ee-k'>1:</span><span class='ee-v'>0</span></li><li><span class='ee-k'>2:</span><span class='ee-v'>-180</span></li><li><span class='ee-k'>3:</span><span class='ee-v'>0</span></li><li><span class='ee-k'>4:</span><span class='ee-v'>-0.25</span></li><li><span class='ee-k'>5:</span><span class='ee-v'>90</span></li></ul></li><li><label class='ee-shut'>data_type: float<input type='checkbox' class='ee-toggle'></label><ul><li><span class='ee-k'>type:</span><span class='ee-v'>PixelType</span></li><li><span class='ee-k'>precision:</span><span class='ee-v'>float</span></li></ul></li><li><label class='ee-shut'>dimensions: [1440, 600]<input type='checkbox' class='ee-toggle'></label><ul><li><span class='ee-k'>0:</span><span class='ee-v'>1440</span></li><li><span class='ee-k'>1:</span><span class='ee-v'>600</span></li></ul></li></ul></li><li><label class='ee-shut'>5: \"q\", float, EPSG:4326, 1440x600 px<input type='checkbox' class='ee-toggle'></label><ul><li><span class='ee-k'>id:</span><span class='ee-v'>q</span></li><li><span class='ee-k'>crs:</span><span class='ee-v'>EPSG:4326</span></li><li><label class='ee-shut'>crs_transform: [0.25, 0, -180, 0, -0.25, 90]<input type='checkbox' class='ee-toggle'></label><ul><li><span class='ee-k'>0:</span><span class='ee-v'>0.25</span></li><li><span class='ee-k'>1:</span><span class='ee-v'>0</span></li><li><span class='ee-k'>2:</span><span class='ee-v'>-180</span></li><li><span class='ee-k'>3:</span><span class='ee-v'>0</span></li><li><span class='ee-k'>4:</span><span class='ee-v'>-0.25</span></li><li><span class='ee-k'>5:</span><span class='ee-v'>90</span></li></ul></li><li><label class='ee-shut'>data_type: float<input type='checkbox' class='ee-toggle'></label><ul><li><span class='ee-k'>type:</span><span class='ee-v'>PixelType</span></li><li><span class='ee-k'>precision:</span><span class='ee-v'>float</span></li></ul></li><li><label class='ee-shut'>dimensions: [1440, 600]<input type='checkbox' class='ee-toggle'></label><ul><li><span class='ee-k'>0:</span><span class='ee-v'>1440</span></li><li><span class='ee-k'>1:</span><span class='ee-v'>600</span></li></ul></li></ul></li><li><label class='ee-shut'>6: \"U10\", float, EPSG:4326, 1440x600 px<input type='checkbox' class='ee-toggle'></label><ul><li><span class='ee-k'>id:</span><span class='ee-v'>U10</span></li><li><span class='ee-k'>crs:</span><span class='ee-v'>EPSG:4326</span></li><li><label class='ee-shut'>crs_transform: [0.25, 0, -180, 0, -0.25, 90]<input type='checkbox' class='ee-toggle'></label><ul><li><span class='ee-k'>0:</span><span class='ee-v'>0.25</span></li><li><span class='ee-k'>1:</span><span class='ee-v'>0</span></li><li><span class='ee-k'>2:</span><span class='ee-v'>-180</span></li><li><span class='ee-k'>3:</span><span class='ee-v'>0</span></li><li><span class='ee-k'>4:</span><span class='ee-v'>-0.25</span></li><li><span class='ee-k'>5:</span><span class='ee-v'>90</span></li></ul></li><li><label class='ee-shut'>data_type: float<input type='checkbox' class='ee-toggle'></label><ul><li><span class='ee-k'>type:</span><span class='ee-v'>PixelType</span></li><li><span class='ee-k'>precision:</span><span class='ee-v'>float</span></li></ul></li><li><label class='ee-shut'>dimensions: [1440, 600]<input type='checkbox' class='ee-toggle'></label><ul><li><span class='ee-k'>0:</span><span class='ee-v'>1440</span></li><li><span class='ee-k'>1:</span><span class='ee-v'>600</span></li></ul></li></ul></li><li><label class='ee-shut'>7: \"Pa\", float, EPSG:4326, 1440x600 px<input type='checkbox' class='ee-toggle'></label><ul><li><span class='ee-k'>id:</span><span class='ee-v'>Pa</span></li><li><span class='ee-k'>crs:</span><span class='ee-v'>EPSG:4326</span></li><li><label class='ee-shut'>crs_transform: [0.25, 0, -180, 0, -0.25, 90]<input type='checkbox' class='ee-toggle'></label><ul><li><span class='ee-k'>0:</span><span class='ee-v'>0.25</span></li><li><span class='ee-k'>1:</span><span class='ee-v'>0</span></li><li><span class='ee-k'>2:</span><span class='ee-v'>-180</span></li><li><span class='ee-k'>3:</span><span class='ee-v'>0</span></li><li><span class='ee-k'>4:</span><span class='ee-v'>-0.25</span></li><li><span class='ee-k'>5:</span><span class='ee-v'>90</span></li></ul></li><li><label class='ee-shut'>data_type: float<input type='checkbox' class='ee-toggle'></label><ul><li><span class='ee-k'>type:</span><span class='ee-v'>PixelType</span></li><li><span class='ee-k'>precision:</span><span class='ee-v'>float</span></li></ul></li><li><label class='ee-shut'>dimensions: [1440, 600]<input type='checkbox' class='ee-toggle'></label><ul><li><span class='ee-k'>0:</span><span class='ee-v'>1440</span></li><li><span class='ee-k'>1:</span><span class='ee-v'>600</span></li></ul></li></ul></li><li><label class='ee-shut'>8: \"PET\", float, EPSG:4326, 1440x600 px<input type='checkbox' class='ee-toggle'></label><ul><li><span class='ee-k'>id:</span><span class='ee-v'>PET</span></li><li><span class='ee-k'>crs:</span><span class='ee-v'>EPSG:4326</span></li><li><label class='ee-shut'>crs_transform: [0.25, 0, -180, 0, -0.25, 90]<input type='checkbox' class='ee-toggle'></label><ul><li><span class='ee-k'>0:</span><span class='ee-v'>0.25</span></li><li><span class='ee-k'>1:</span><span class='ee-v'>0</span></li><li><span class='ee-k'>2:</span><span class='ee-v'>-180</span></li><li><span class='ee-k'>3:</span><span class='ee-v'>0</span></li><li><span class='ee-k'>4:</span><span class='ee-v'>-0.25</span></li><li><span class='ee-k'>5:</span><span class='ee-v'>90</span></li></ul></li><li><label class='ee-shut'>data_type: float<input type='checkbox' class='ee-toggle'></label><ul><li><span class='ee-k'>type:</span><span class='ee-v'>PixelType</span></li><li><span class='ee-k'>precision:</span><span class='ee-v'>float</span></li></ul></li><li><label class='ee-shut'>dimensions: [1440, 600]<input type='checkbox' class='ee-toggle'></label><ul><li><span class='ee-k'>0:</span><span class='ee-v'>1440</span></li><li><span class='ee-k'>1:</span><span class='ee-v'>600</span></li></ul></li></ul></li><li><label class='ee-shut'>9: \"ET\", float, EPSG:4326, 1440x600 px<input type='checkbox' class='ee-toggle'></label><ul><li><span class='ee-k'>id:</span><span class='ee-v'>ET</span></li><li><span class='ee-k'>crs:</span><span class='ee-v'>EPSG:4326</span></li><li><label class='ee-shut'>crs_transform: [0.25, 0, -180, 0, -0.25, 90]<input type='checkbox' class='ee-toggle'></label><ul><li><span class='ee-k'>0:</span><span class='ee-v'>0.25</span></li><li><span class='ee-k'>1:</span><span class='ee-v'>0</span></li><li><span class='ee-k'>2:</span><span class='ee-v'>-180</span></li><li><span class='ee-k'>3:</span><span class='ee-v'>0</span></li><li><span class='ee-k'>4:</span><span class='ee-v'>-0.25</span></li><li><span class='ee-k'>5:</span><span class='ee-v'>90</span></li></ul></li><li><label class='ee-shut'>data_type: float<input type='checkbox' class='ee-toggle'></label><ul><li><span class='ee-k'>type:</span><span class='ee-v'>PixelType</span></li><li><span class='ee-k'>precision:</span><span class='ee-v'>float</span></li></ul></li><li><label class='ee-shut'>dimensions: [1440, 600]<input type='checkbox' class='ee-toggle'></label><ul><li><span class='ee-k'>0:</span><span class='ee-v'>1440</span></li><li><span class='ee-k'>1:</span><span class='ee-v'>600</span></li></ul></li></ul></li><li><label class='ee-shut'>10: \"Ec\", float, EPSG:4326, 1440x600 px<input type='checkbox' class='ee-toggle'></label><ul><li><span class='ee-k'>id:</span><span class='ee-v'>Ec</span></li><li><span class='ee-k'>crs:</span><span class='ee-v'>EPSG:4326</span></li><li><label class='ee-shut'>crs_transform: [0.25, 0, -180, 0, -0.25, 90]<input type='checkbox' class='ee-toggle'></label><ul><li><span class='ee-k'>0:</span><span class='ee-v'>0.25</span></li><li><span class='ee-k'>1:</span><span class='ee-v'>0</span></li><li><span class='ee-k'>2:</span><span class='ee-v'>-180</span></li><li><span class='ee-k'>3:</span><span class='ee-v'>0</span></li><li><span class='ee-k'>4:</span><span class='ee-v'>-0.25</span></li><li><span class='ee-k'>5:</span><span class='ee-v'>90</span></li></ul></li><li><label class='ee-shut'>data_type: float<input type='checkbox' class='ee-toggle'></label><ul><li><span class='ee-k'>type:</span><span class='ee-v'>PixelType</span></li><li><span class='ee-k'>precision:</span><span class='ee-v'>float</span></li></ul></li><li><label class='ee-shut'>dimensions: [1440, 600]<input type='checkbox' class='ee-toggle'></label><ul><li><span class='ee-k'>0:</span><span class='ee-v'>1440</span></li><li><span class='ee-k'>1:</span><span class='ee-v'>600</span></li></ul></li></ul></li><li><label class='ee-shut'>11: \"Es\", float, EPSG:4326, 1440x600 px<input type='checkbox' class='ee-toggle'></label><ul><li><span class='ee-k'>id:</span><span class='ee-v'>Es</span></li><li><span class='ee-k'>crs:</span><span class='ee-v'>EPSG:4326</span></li><li><label class='ee-shut'>crs_transform: [0.25, 0, -180, 0, -0.25, 90]<input type='checkbox' class='ee-toggle'></label><ul><li><span class='ee-k'>0:</span><span class='ee-v'>0.25</span></li><li><span class='ee-k'>1:</span><span class='ee-v'>0</span></li><li><span class='ee-k'>2:</span><span class='ee-v'>-180</span></li><li><span class='ee-k'>3:</span><span class='ee-v'>0</span></li><li><span class='ee-k'>4:</span><span class='ee-v'>-0.25</span></li><li><span class='ee-k'>5:</span><span class='ee-v'>90</span></li></ul></li><li><label class='ee-shut'>data_type: float<input type='checkbox' class='ee-toggle'></label><ul><li><span class='ee-k'>type:</span><span class='ee-v'>PixelType</span></li><li><span class='ee-k'>precision:</span><span class='ee-v'>float</span></li></ul></li><li><label class='ee-shut'>dimensions: [1440, 600]<input type='checkbox' class='ee-toggle'></label><ul><li><span class='ee-k'>0:</span><span class='ee-v'>1440</span></li><li><span class='ee-k'>1:</span><span class='ee-v'>600</span></li></ul></li></ul></li><li><label class='ee-shut'>12: \"Ei\", float, EPSG:4326, 1440x600 px<input type='checkbox' class='ee-toggle'></label><ul><li><span class='ee-k'>id:</span><span class='ee-v'>Ei</span></li><li><span class='ee-k'>crs:</span><span class='ee-v'>EPSG:4326</span></li><li><label class='ee-shut'>crs_transform: [0.25, 0, -180, 0, -0.25, 90]<input type='checkbox' class='ee-toggle'></label><ul><li><span class='ee-k'>0:</span><span class='ee-v'>0.25</span></li><li><span class='ee-k'>1:</span><span class='ee-v'>0</span></li><li><span class='ee-k'>2:</span><span class='ee-v'>-180</span></li><li><span class='ee-k'>3:</span><span class='ee-v'>0</span></li><li><span class='ee-k'>4:</span><span class='ee-v'>-0.25</span></li><li><span class='ee-k'>5:</span><span class='ee-v'>90</span></li></ul></li><li><label class='ee-shut'>data_type: float<input type='checkbox' class='ee-toggle'></label><ul><li><span class='ee-k'>type:</span><span class='ee-v'>PixelType</span></li><li><span class='ee-k'>precision:</span><span class='ee-v'>float</span></li></ul></li><li><label class='ee-shut'>dimensions: [1440, 600]<input type='checkbox' class='ee-toggle'></label><ul><li><span class='ee-k'>0:</span><span class='ee-v'>1440</span></li><li><span class='ee-k'>1:</span><span class='ee-v'>600</span></li></ul></li></ul></li><li><label class='ee-shut'>13: \"Tsurf\", float, EPSG:4326, 1440x600 px<input type='checkbox' class='ee-toggle'></label><ul><li><span class='ee-k'>id:</span><span class='ee-v'>Tsurf</span></li><li><span class='ee-k'>crs:</span><span class='ee-v'>EPSG:4326</span></li><li><label class='ee-shut'>crs_transform: [0.25, 0, -180, 0, -0.25, 90]<input type='checkbox' class='ee-toggle'></label><ul><li><span class='ee-k'>0:</span><span class='ee-v'>0.25</span></li><li><span class='ee-k'>1:</span><span class='ee-v'>0</span></li><li><span class='ee-k'>2:</span><span class='ee-v'>-180</span></li><li><span class='ee-k'>3:</span><span class='ee-v'>0</span></li><li><span class='ee-k'>4:</span><span class='ee-v'>-0.25</span></li><li><span class='ee-k'>5:</span><span class='ee-v'>90</span></li></ul></li><li><label class='ee-shut'>data_type: float<input type='checkbox' class='ee-toggle'></label><ul><li><span class='ee-k'>type:</span><span class='ee-v'>PixelType</span></li><li><span class='ee-k'>precision:</span><span class='ee-v'>float</span></li></ul></li><li><label class='ee-shut'>dimensions: [1440, 600]<input type='checkbox' class='ee-toggle'></label><ul><li><span class='ee-k'>0:</span><span class='ee-v'>1440</span></li><li><span class='ee-k'>1:</span><span class='ee-v'>600</span></li></ul></li></ul></li><li><label class='ee-shut'>14: \"Tair\", float, EPSG:4326, 1440x600 px<input type='checkbox' class='ee-toggle'></label><ul><li><span class='ee-k'>id:</span><span class='ee-v'>Tair</span></li><li><span class='ee-k'>crs:</span><span class='ee-v'>EPSG:4326</span></li><li><label class='ee-shut'>crs_transform: [0.25, 0, -180, 0, -0.25, 90]<input type='checkbox' class='ee-toggle'></label><ul><li><span class='ee-k'>0:</span><span class='ee-v'>0.25</span></li><li><span class='ee-k'>1:</span><span class='ee-v'>0</span></li><li><span class='ee-k'>2:</span><span class='ee-v'>-180</span></li><li><span class='ee-k'>3:</span><span class='ee-v'>0</span></li><li><span class='ee-k'>4:</span><span class='ee-v'>-0.25</span></li><li><span class='ee-k'>5:</span><span class='ee-v'>90</span></li></ul></li><li><label class='ee-shut'>data_type: float<input type='checkbox' class='ee-toggle'></label><ul><li><span class='ee-k'>type:</span><span class='ee-v'>PixelType</span></li><li><span class='ee-k'>precision:</span><span class='ee-v'>float</span></li></ul></li><li><label class='ee-shut'>dimensions: [1440, 600]<input type='checkbox' class='ee-toggle'></label><ul><li><span class='ee-k'>0:</span><span class='ee-v'>1440</span></li><li><span class='ee-k'>1:</span><span class='ee-v'>600</span></li></ul></li></ul></li></ul></li><li><label class='ee-shut'>properties: Object (8 properties)<input type='checkbox' class='ee-toggle'></label><ul><li><span class='ee-k'>end_hour:</span><span class='ee-v'>3</span></li><li><span class='ee-k'>start_hour:</span><span class='ee-v'>0</span></li><li><span class='ee-k'>status:</span><span class='ee-v'>permanent</span></li><li><span class='ee-k'>system:asset_size:</span><span class='ee-v'>25328705</span></li><li><label class='ee-shut'>system:footprint: LinearRing (5 vertices)<input type='checkbox' class='ee-toggle'></label><ul><li><span class='ee-k'>type:</span><span class='ee-v'>LinearRing</span></li><li><label class='ee-shut'>coordinates: List (5 elements)<input type='checkbox' class='ee-toggle'></label><ul><li><label class='ee-shut'>0: [-180, -90]<input type='checkbox' class='ee-toggle'></label><ul><li><span class='ee-k'>0:</span><span class='ee-v'>-180</span></li><li><span class='ee-k'>1:</span><span class='ee-v'>-90</span></li></ul></li><li><label class='ee-shut'>1: [180, -90]<input type='checkbox' class='ee-toggle'></label><ul><li><span class='ee-k'>0:</span><span class='ee-v'>180</span></li><li><span class='ee-k'>1:</span><span class='ee-v'>-90</span></li></ul></li><li><label class='ee-shut'>2: [180, 90]<input type='checkbox' class='ee-toggle'></label><ul><li><span class='ee-k'>0:</span><span class='ee-v'>180</span></li><li><span class='ee-k'>1:</span><span class='ee-v'>90</span></li></ul></li><li><label class='ee-shut'>3: [-180, 90]<input type='checkbox' class='ee-toggle'></label><ul><li><span class='ee-k'>0:</span><span class='ee-v'>-180</span></li><li><span class='ee-k'>1:</span><span class='ee-v'>90</span></li></ul></li><li><label class='ee-shut'>4: [-180, -90]<input type='checkbox' class='ee-toggle'></label><ul><li><span class='ee-k'>0:</span><span class='ee-v'>-180</span></li><li><span class='ee-k'>1:</span><span class='ee-v'>-90</span></li></ul></li></ul></li></ul></li><li><span class='ee-k'>system:index:</span><span class='ee-v'>A20070101_0000</span></li><li><span class='ee-k'>system:time_end:</span><span class='ee-v'>1167620400000</span></li><li><span class='ee-k'>system:time_start:</span><span class='ee-v'>1167609600000</span></li></ul></li></ul></li></ul></li></ul></li></ul></div><script>function toggleHeader() {\n",
       "    const parent = this.parentElement;\n",
       "    parent.className = parent.className === \"ee-open\" ? \"ee-shut\" : \"ee-open\";\n",
       "}\n",
       "\n",
       "for (let c of document.getElementsByClassName(\"ee-toggle\")) {\n",
       "    c.onclick = toggleHeader;\n",
       "}</script></div>"
      ],
      "text/plain": [
       "<ee.imagecollection.ImageCollection at 0x1d2b7d37d90>"
      ]
     },
     "execution_count": 4,
     "metadata": {},
     "output_type": "execute_result"
    }
   ],
   "source": [
    "# GLDAS\n",
    "col_gldas = get_GLDAS().filter(filter)\n",
    "col_gldas.limit(1)\n",
    "# col_export_points(point, col_gldas, \"data/栾城_GLDAS21.csv\")"
   ]
  },
  {
   "cell_type": "code",
   "execution_count": 6,
   "id": "df6b1c04",
   "metadata": {},
   "outputs": [
    {
     "data": {
      "text/html": [
       "\n",
       "            <style>\n",
       "                .geemap-dark {\n",
       "                    --jp-widgets-color: white;\n",
       "                    --jp-widgets-label-color: white;\n",
       "                    --jp-ui-font-color1: white;\n",
       "                    --jp-layout-color2: #454545;\n",
       "                    background-color: #383838;\n",
       "                }\n",
       "\n",
       "                .geemap-dark .jupyter-button {\n",
       "                    --jp-layout-color3: #383838;\n",
       "                }\n",
       "\n",
       "                .geemap-colab {\n",
       "                    background-color: var(--colab-primary-surface-color, white);\n",
       "                }\n",
       "\n",
       "                .geemap-colab .jupyter-button {\n",
       "                    --jp-layout-color3: var(--colab-primary-surface-color, white);\n",
       "                }\n",
       "            </style>\n",
       "            "
      ],
      "text/plain": [
       "<IPython.core.display.HTML object>"
      ]
     },
     "metadata": {},
     "output_type": "display_data"
    }
   ],
   "source": [
    "bands_mean = list(bands_GLDAS21.keys())[0:-1]\n",
    "band_Tair = \"Tair\"\n",
    "\n",
    "for year in range(2007, 2019):\n",
    "    col = get_daily_GLDAS(year, bands_mean)\n",
    "    col_export_points(point, col, f\"栾城_GLDAS_{year}.csv\")"
   ]
  },
  {
   "cell_type": "markdown",
   "id": "a8b8eda4-b6f5-494f-9cbd-8ff6379d352a",
   "metadata": {},
   "source": [
    "## 截取数据\n"
   ]
  },
  {
   "cell_type": "code",
   "execution_count": 4,
   "id": "77df1acf-7bd3-424c-8810-759c7a8cbf30",
   "metadata": {
    "scrolled": true
   },
   "outputs": [
    {
     "data": {
      "text/html": [
       "\n",
       "            <style>\n",
       "                .geemap-dark {\n",
       "                    --jp-widgets-color: white;\n",
       "                    --jp-widgets-label-color: white;\n",
       "                    --jp-ui-font-color1: white;\n",
       "                    --jp-layout-color2: #454545;\n",
       "                    background-color: #383838;\n",
       "                }\n",
       "\n",
       "                .geemap-dark .jupyter-button {\n",
       "                    --jp-layout-color3: #383838;\n",
       "                }\n",
       "\n",
       "                .geemap-colab {\n",
       "                    background-color: var(--colab-primary-surface-color, white);\n",
       "                }\n",
       "\n",
       "                .geemap-colab .jupyter-button {\n",
       "                    --jp-layout-color3: var(--colab-primary-surface-color, white);\n",
       "                }\n",
       "            </style>\n",
       "            "
      ],
      "text/plain": [
       "<IPython.core.display.HTML object>"
      ]
     },
     "metadata": {},
     "output_type": "display_data"
    },
    {
     "data": {
      "text/html": [
       "<div><style>:root {\n",
       "  --font-color-primary: var(--jp-content-font-color0, rgba(0, 0, 0, 1));\n",
       "  --font-color-secondary: var(--jp-content-font-color2, rgba(0, 0, 0, 0.6));\n",
       "  --font-color-accent: rgba(123, 31, 162, 1);\n",
       "  --border-color: var(--jp-border-color2, #e0e0e0);\n",
       "  --background-color: var(--jp-layout-color0, white);\n",
       "  --background-color-row-even: var(--jp-layout-color1, white);\n",
       "  --background-color-row-odd: var(--jp-layout-color2, #eeeeee);\n",
       "}\n",
       "\n",
       "html[theme=\"dark\"],\n",
       "body[data-theme=\"dark\"],\n",
       "body.vscode-dark {\n",
       "  --font-color-primary: rgba(255, 255, 255, 1);\n",
       "  --font-color-secondary: rgba(255, 255, 255, 0.6);\n",
       "  --font-color-accent: rgb(173, 132, 190);\n",
       "  --border-color: #2e2e2e;\n",
       "  --background-color: #111111;\n",
       "  --background-color-row-even: #111111;\n",
       "  --background-color-row-odd: #313131;\n",
       "}\n",
       "\n",
       ".ee {\n",
       "  padding: 1em;\n",
       "  line-height: 1.5em;\n",
       "  min-width: 300px;\n",
       "  max-width: 1200px;\n",
       "  overflow-y: scroll;\n",
       "  max-height: 600px;\n",
       "  border: 1px solid var(--border-color);\n",
       "  font-family: monospace;\n",
       "}\n",
       "\n",
       ".ee li {\n",
       "  list-style-type: none;\n",
       "}\n",
       "\n",
       ".ee ul {\n",
       "  padding-left: 1.5em !important;\n",
       "  margin: 0;\n",
       "}\n",
       "\n",
       ".ee > ul {\n",
       "  padding-left: 0 !important;\n",
       "}\n",
       "\n",
       ".ee-open,\n",
       ".ee-shut {\n",
       "  color: var(--font-color-secondary);\n",
       "  cursor: pointer;\n",
       "  margin: 0;\n",
       "}\n",
       "\n",
       ".ee-open:hover,\n",
       ".ee-shut:hover {\n",
       "  color: var(--font-color-primary);\n",
       "}\n",
       "\n",
       ".ee-k {\n",
       "  color: var(--font-color-accent);\n",
       "  margin-right: 6px;\n",
       "}\n",
       "\n",
       ".ee-v {\n",
       "  color: var(--font-color-primary);\n",
       "}\n",
       "\n",
       ".ee-toggle {\n",
       "  display: none;\n",
       "}\n",
       "\n",
       ".ee-shut + ul {\n",
       "  display: none;\n",
       "}\n",
       "\n",
       ".ee-open + ul {\n",
       "  display: block;\n",
       "}\n",
       "\n",
       ".ee-shut::before {\n",
       "  display: inline-block;\n",
       "  content: \"▼\";\n",
       "  margin-right: 6px;\n",
       "  transform: rotate(-90deg);\n",
       "  transition: transform 0.2s;\n",
       "}\n",
       "\n",
       ".ee-open::before {\n",
       "  transform: rotate(0deg);\n",
       "  display: inline-block;\n",
       "  content: \"▼\";\n",
       "  margin-right: 6px;\n",
       "  transition: transform 0.2s;\n",
       "}\n",
       "</style><div class='ee'><ul><li><label class='ee-shut'>ImageCollection users/shaoyanghe96/PMLV2_China_daily  (3 elements)<input type='checkbox' class='ee-toggle'></label><ul><li><span class='ee-k'>type:</span><span class='ee-v'>ImageCollection</span></li><li><span class='ee-k'>id:</span><span class='ee-v'>users/shaoyanghe96/PMLV2_China_daily</span></li><li><span class='ee-k'>version:</span><span class='ee-v'>1699353904487393</span></li><li><label class='ee-shut'>bands: []<input type='checkbox' class='ee-toggle'></label><ul></ul></li><li><label class='ee-shut'>properties: Object (1 property)<input type='checkbox' class='ee-toggle'></label><ul><li><span class='ee-k'>description:</span><span class='ee-v'>Meteorological input data: CMFD(2000-2018) and bias-corrected CMFD by GLDAS (2019-2020). For more information please refer to:\n",
       "He, S., Zhang, Y., Ma, N., Tian, J., Kong, D., Liu, C., 2022. A daily and 500 m coupled evapotranspiration and gross primary production product across China during 2000–2020. Earth Syst. Sci. Data 14, 5463–5488. https://doi.org/10.5194/essd-14-5463-2022\n",
       "</span></li></ul></li><li><label class='ee-shut'>features: List (3 elements)<input type='checkbox' class='ee-toggle'></label><ul><li><label class='ee-shut'>0: Image users/shaoyanghe96/PMLV2_China_daily/2007-01-01 (1 band)<input type='checkbox' class='ee-toggle'></label><ul><li><span class='ee-k'>type:</span><span class='ee-v'>Image</span></li><li><span class='ee-k'>id:</span><span class='ee-v'>users/shaoyanghe96/PMLV2_China_daily/2007-01-01</span></li><li><span class='ee-k'>version:</span><span class='ee-v'>1655171049646572</span></li><li><label class='ee-shut'>bands: List (1 element)<input type='checkbox' class='ee-toggle'></label><ul><li><label class='ee-shut'>0: \"ET\", int ∈ [0, 196605], EPSG:4326, 14737x8545 px<input type='checkbox' class='ee-toggle'></label><ul><li><span class='ee-k'>id:</span><span class='ee-v'>ET</span></li><li><span class='ee-k'>crs:</span><span class='ee-v'>EPSG:4326</span></li><li><label class='ee-shut'>crs_transform: List (6 elements)<input type='checkbox' class='ee-toggle'></label><ul><li><span class='ee-k'>0:</span><span class='ee-v'>0.004166666666666667</span></li><li><span class='ee-k'>1:</span><span class='ee-v'>0</span></li><li><span class='ee-k'>2:</span><span class='ee-v'>73.4</span></li><li><span class='ee-k'>3:</span><span class='ee-v'>0</span></li><li><span class='ee-k'>4:</span><span class='ee-v'>-0.004166666666666667</span></li><li><span class='ee-k'>5:</span><span class='ee-v'>53.604166666666664</span></li></ul></li><li><label class='ee-shut'>data_type: int ∈ [0, 196605]<input type='checkbox' class='ee-toggle'></label><ul><li><span class='ee-k'>type:</span><span class='ee-v'>PixelType</span></li><li><span class='ee-k'>max:</span><span class='ee-v'>196605</span></li><li><span class='ee-k'>min:</span><span class='ee-v'>0</span></li><li><span class='ee-k'>precision:</span><span class='ee-v'>int</span></li></ul></li><li><label class='ee-shut'>dimensions: [14737, 8545]<input type='checkbox' class='ee-toggle'></label><ul><li><span class='ee-k'>0:</span><span class='ee-v'>14737</span></li><li><span class='ee-k'>1:</span><span class='ee-v'>8545</span></li></ul></li></ul></li></ul></li><li><label class='ee-shut'>properties: Object (4 properties)<input type='checkbox' class='ee-toggle'></label><ul><li><span class='ee-k'>system:asset_size:</span><span class='ee-v'>66698343</span></li><li><label class='ee-shut'>system:footprint: LinearRing (19 vertices)<input type='checkbox' class='ee-toggle'></label><ul><li><span class='ee-k'>type:</span><span class='ee-v'>LinearRing</span></li><li><label class='ee-shut'>coordinates: List (19 elements)<input type='checkbox' class='ee-toggle'></label><ul><li><label class='ee-shut'>0: [126.16770835450298, 17.98374798689216]<input type='checkbox' class='ee-toggle'></label><ul><li><span class='ee-k'>0:</span><span class='ee-v'>126.16770835450298</span></li><li><span class='ee-k'>1:</span><span class='ee-v'>17.98374798689216</span></li></ul></li><li><label class='ee-shut'>1: [130.96458333882703, 17.983747999028797]<input type='checkbox' class='ee-toggle'></label><ul><li><span class='ee-k'>0:</span><span class='ee-v'>130.96458333882703</span></li><li><span class='ee-k'>1:</span><span class='ee-v'>17.983747999028797</span></li></ul></li><li><label class='ee-shut'>2: [134.80647170923274, 17.993156268678817]<input type='checkbox' class='ee-toggle'></label><ul><li><span class='ee-k'>0:</span><span class='ee-v'>134.80647170923274</span></li><li><span class='ee-k'>1:</span><span class='ee-v'>17.993156268678817</span></li></ul></li><li><label class='ee-shut'>3: [134.80911798523698, 53.606229056978776]<input type='checkbox' class='ee-toggle'></label><ul><li><span class='ee-k'>0:</span><span class='ee-v'>134.80911798523698</span></li><li><span class='ee-k'>1:</span><span class='ee-v'>53.606229056978776</span></li></ul></li><li><label class='ee-shut'>4: [127.12708331957923, 53.6062574144496]<input type='checkbox' class='ee-toggle'></label><ul><li><span class='ee-k'>0:</span><span class='ee-v'>127.12708331957923</span></li><li><span class='ee-k'>1:</span><span class='ee-v'>53.6062574144496</span></li></ul></li><li><label class='ee-shut'>5: [115.61458328056331, 53.60625739305617]<input type='checkbox' class='ee-toggle'></label><ul><li><span class='ee-k'>0:</span><span class='ee-v'>115.61458328056331</span></li><li><span class='ee-k'>1:</span><span class='ee-v'>53.60625739305617</span></li></ul></li><li><label class='ee-shut'>6: [100.26458329083957, 53.60625740096642]<input type='checkbox' class='ee-toggle'></label><ul><li><span class='ee-k'>0:</span><span class='ee-v'>100.26458329083957</span></li><li><span class='ee-k'>1:</span><span class='ee-v'>53.60625740096642</span></li></ul></li><li><label class='ee-shut'>7: [85.87395837307227, 53.606257358467346]<input type='checkbox' class='ee-toggle'></label><ul><li><span class='ee-k'>0:</span><span class='ee-v'>85.87395837307227</span></li><li><span class='ee-k'>1:</span><span class='ee-v'>53.606257358467346</span></li></ul></li><li><label class='ee-shut'>8: [73.39504876826472, 53.60622904590532]<input type='checkbox' class='ee-toggle'></label><ul><li><span class='ee-k'>0:</span><span class='ee-v'>73.39504876826472</span></li><li><span class='ee-k'>1:</span><span class='ee-v'>53.60622904590532</span></li></ul></li><li><label class='ee-shut'>9: [73.39769500256618, 17.99315626720766]<input type='checkbox' class='ee-toggle'></label><ul><li><span class='ee-k'>0:</span><span class='ee-v'>73.39769500256618</span></li><li><span class='ee-k'>1:</span><span class='ee-v'>17.99315626720766</span></li></ul></li><li><label class='ee-shut'>10: [77.23958330636853, 17.983748042394836]<input type='checkbox' class='ee-toggle'></label><ul><li><span class='ee-k'>0:</span><span class='ee-v'>77.23958330636853</span></li><li><span class='ee-k'>1:</span><span class='ee-v'>17.983748042394836</span></li></ul></li><li><label class='ee-shut'>11: [82.51614586528224, 17.977257927077705]<input type='checkbox' class='ee-toggle'></label><ul><li><span class='ee-k'>0:</span><span class='ee-v'>82.51614586528224</span></li><li><span class='ee-k'>1:</span><span class='ee-v'>17.977257927077705</span></li></ul></li><li><label class='ee-shut'>12: [88.75208334879692, 17.969588356725673]<input type='checkbox' class='ee-toggle'></label><ul><li><span class='ee-k'>0:</span><span class='ee-v'>88.75208334879692</span></li><li><span class='ee-k'>1:</span><span class='ee-v'>17.969588356725673</span></li></ul></li><li><label class='ee-shut'>13: [94.98802083878665, 17.977257989632918]<input type='checkbox' class='ee-toggle'></label><ul><li><span class='ee-k'>0:</span><span class='ee-v'>94.98802083878665</span></li><li><span class='ee-k'>1:</span><span class='ee-v'>17.977257989632918</span></li></ul></li><li><label class='ee-shut'>14: [101.70364583349793, 17.96073940983618]<input type='checkbox' class='ee-toggle'></label><ul><li><span class='ee-k'>0:</span><span class='ee-v'>101.70364583349793</span></li><li><span class='ee-k'>1:</span><span class='ee-v'>17.96073940983618</span></li></ul></li><li><label class='ee-shut'>15: [108.89895833404846, 17.969588379651693]<input type='checkbox' class='ee-toggle'></label><ul><li><span class='ee-k'>0:</span><span class='ee-v'>108.89895833404846</span></li><li><span class='ee-k'>1:</span><span class='ee-v'>17.969588379651693</span></li></ul></li><li><label class='ee-shut'>16: [114.6552083672913, 17.98374803260451]<input type='checkbox' class='ee-toggle'></label><ul><li><span class='ee-k'>0:</span><span class='ee-v'>114.6552083672913</span></li><li><span class='ee-k'>1:</span><span class='ee-v'>17.98374803260451</span></li></ul></li><li><label class='ee-shut'>17: [120.41145830824128, 17.969588397315952]<input type='checkbox' class='ee-toggle'></label><ul><li><span class='ee-k'>0:</span><span class='ee-v'>120.41145830824128</span></li><li><span class='ee-k'>1:</span><span class='ee-v'>17.969588397315952</span></li></ul></li><li><label class='ee-shut'>18: [126.16770835450298, 17.98374798689216]<input type='checkbox' class='ee-toggle'></label><ul><li><span class='ee-k'>0:</span><span class='ee-v'>126.16770835450298</span></li><li><span class='ee-k'>1:</span><span class='ee-v'>17.98374798689216</span></li></ul></li></ul></li></ul></li><li><span class='ee-k'>system:index:</span><span class='ee-v'>2007-01-01</span></li><li><span class='ee-k'>system:time_start:</span><span class='ee-v'>1167609600000</span></li></ul></li></ul></li><li><label class='ee-shut'>1: Image users/shaoyanghe96/PMLV2_China_daily/2007-01-02 (1 band)<input type='checkbox' class='ee-toggle'></label><ul><li><span class='ee-k'>type:</span><span class='ee-v'>Image</span></li><li><span class='ee-k'>id:</span><span class='ee-v'>users/shaoyanghe96/PMLV2_China_daily/2007-01-02</span></li><li><span class='ee-k'>version:</span><span class='ee-v'>1655171030931957</span></li><li><label class='ee-shut'>bands: List (1 element)<input type='checkbox' class='ee-toggle'></label><ul><li><label class='ee-shut'>0: \"ET\", int ∈ [0, 196605], EPSG:4326, 14737x8545 px<input type='checkbox' class='ee-toggle'></label><ul><li><span class='ee-k'>id:</span><span class='ee-v'>ET</span></li><li><span class='ee-k'>crs:</span><span class='ee-v'>EPSG:4326</span></li><li><label class='ee-shut'>crs_transform: List (6 elements)<input type='checkbox' class='ee-toggle'></label><ul><li><span class='ee-k'>0:</span><span class='ee-v'>0.004166666666666667</span></li><li><span class='ee-k'>1:</span><span class='ee-v'>0</span></li><li><span class='ee-k'>2:</span><span class='ee-v'>73.4</span></li><li><span class='ee-k'>3:</span><span class='ee-v'>0</span></li><li><span class='ee-k'>4:</span><span class='ee-v'>-0.004166666666666667</span></li><li><span class='ee-k'>5:</span><span class='ee-v'>53.604166666666664</span></li></ul></li><li><label class='ee-shut'>data_type: int ∈ [0, 196605]<input type='checkbox' class='ee-toggle'></label><ul><li><span class='ee-k'>type:</span><span class='ee-v'>PixelType</span></li><li><span class='ee-k'>max:</span><span class='ee-v'>196605</span></li><li><span class='ee-k'>min:</span><span class='ee-v'>0</span></li><li><span class='ee-k'>precision:</span><span class='ee-v'>int</span></li></ul></li><li><label class='ee-shut'>dimensions: [14737, 8545]<input type='checkbox' class='ee-toggle'></label><ul><li><span class='ee-k'>0:</span><span class='ee-v'>14737</span></li><li><span class='ee-k'>1:</span><span class='ee-v'>8545</span></li></ul></li></ul></li></ul></li><li><label class='ee-shut'>properties: Object (4 properties)<input type='checkbox' class='ee-toggle'></label><ul><li><span class='ee-k'>system:asset_size:</span><span class='ee-v'>71622597</span></li><li><label class='ee-shut'>system:footprint: LinearRing (19 vertices)<input type='checkbox' class='ee-toggle'></label><ul><li><span class='ee-k'>type:</span><span class='ee-v'>LinearRing</span></li><li><label class='ee-shut'>coordinates: List (19 elements)<input type='checkbox' class='ee-toggle'></label><ul><li><label class='ee-shut'>0: [126.16770835450298, 17.98374798689216]<input type='checkbox' class='ee-toggle'></label><ul><li><span class='ee-k'>0:</span><span class='ee-v'>126.16770835450298</span></li><li><span class='ee-k'>1:</span><span class='ee-v'>17.98374798689216</span></li></ul></li><li><label class='ee-shut'>1: [130.96458333882703, 17.983747999028797]<input type='checkbox' class='ee-toggle'></label><ul><li><span class='ee-k'>0:</span><span class='ee-v'>130.96458333882703</span></li><li><span class='ee-k'>1:</span><span class='ee-v'>17.983747999028797</span></li></ul></li><li><label class='ee-shut'>2: [134.80647170923274, 17.993156268678817]<input type='checkbox' class='ee-toggle'></label><ul><li><span class='ee-k'>0:</span><span class='ee-v'>134.80647170923274</span></li><li><span class='ee-k'>1:</span><span class='ee-v'>17.993156268678817</span></li></ul></li><li><label class='ee-shut'>3: [134.80911798523698, 53.606229056978776]<input type='checkbox' class='ee-toggle'></label><ul><li><span class='ee-k'>0:</span><span class='ee-v'>134.80911798523698</span></li><li><span class='ee-k'>1:</span><span class='ee-v'>53.606229056978776</span></li></ul></li><li><label class='ee-shut'>4: [127.12708331957923, 53.6062574144496]<input type='checkbox' class='ee-toggle'></label><ul><li><span class='ee-k'>0:</span><span class='ee-v'>127.12708331957923</span></li><li><span class='ee-k'>1:</span><span class='ee-v'>53.6062574144496</span></li></ul></li><li><label class='ee-shut'>5: [115.61458328056331, 53.60625739305617]<input type='checkbox' class='ee-toggle'></label><ul><li><span class='ee-k'>0:</span><span class='ee-v'>115.61458328056331</span></li><li><span class='ee-k'>1:</span><span class='ee-v'>53.60625739305617</span></li></ul></li><li><label class='ee-shut'>6: [100.26458329083957, 53.60625740096642]<input type='checkbox' class='ee-toggle'></label><ul><li><span class='ee-k'>0:</span><span class='ee-v'>100.26458329083957</span></li><li><span class='ee-k'>1:</span><span class='ee-v'>53.60625740096642</span></li></ul></li><li><label class='ee-shut'>7: [85.87395837307227, 53.606257358467346]<input type='checkbox' class='ee-toggle'></label><ul><li><span class='ee-k'>0:</span><span class='ee-v'>85.87395837307227</span></li><li><span class='ee-k'>1:</span><span class='ee-v'>53.606257358467346</span></li></ul></li><li><label class='ee-shut'>8: [73.39504876826472, 53.60622904590532]<input type='checkbox' class='ee-toggle'></label><ul><li><span class='ee-k'>0:</span><span class='ee-v'>73.39504876826472</span></li><li><span class='ee-k'>1:</span><span class='ee-v'>53.60622904590532</span></li></ul></li><li><label class='ee-shut'>9: [73.39769500256618, 17.99315626720766]<input type='checkbox' class='ee-toggle'></label><ul><li><span class='ee-k'>0:</span><span class='ee-v'>73.39769500256618</span></li><li><span class='ee-k'>1:</span><span class='ee-v'>17.99315626720766</span></li></ul></li><li><label class='ee-shut'>10: [77.23958330636853, 17.983748042394836]<input type='checkbox' class='ee-toggle'></label><ul><li><span class='ee-k'>0:</span><span class='ee-v'>77.23958330636853</span></li><li><span class='ee-k'>1:</span><span class='ee-v'>17.983748042394836</span></li></ul></li><li><label class='ee-shut'>11: [82.51614586528224, 17.977257927077705]<input type='checkbox' class='ee-toggle'></label><ul><li><span class='ee-k'>0:</span><span class='ee-v'>82.51614586528224</span></li><li><span class='ee-k'>1:</span><span class='ee-v'>17.977257927077705</span></li></ul></li><li><label class='ee-shut'>12: [88.75208334879692, 17.969588356725673]<input type='checkbox' class='ee-toggle'></label><ul><li><span class='ee-k'>0:</span><span class='ee-v'>88.75208334879692</span></li><li><span class='ee-k'>1:</span><span class='ee-v'>17.969588356725673</span></li></ul></li><li><label class='ee-shut'>13: [94.98802083878665, 17.977257989632918]<input type='checkbox' class='ee-toggle'></label><ul><li><span class='ee-k'>0:</span><span class='ee-v'>94.98802083878665</span></li><li><span class='ee-k'>1:</span><span class='ee-v'>17.977257989632918</span></li></ul></li><li><label class='ee-shut'>14: [101.70364583349793, 17.96073940983618]<input type='checkbox' class='ee-toggle'></label><ul><li><span class='ee-k'>0:</span><span class='ee-v'>101.70364583349793</span></li><li><span class='ee-k'>1:</span><span class='ee-v'>17.96073940983618</span></li></ul></li><li><label class='ee-shut'>15: [108.89895833404846, 17.969588379651693]<input type='checkbox' class='ee-toggle'></label><ul><li><span class='ee-k'>0:</span><span class='ee-v'>108.89895833404846</span></li><li><span class='ee-k'>1:</span><span class='ee-v'>17.969588379651693</span></li></ul></li><li><label class='ee-shut'>16: [114.6552083672913, 17.98374803260451]<input type='checkbox' class='ee-toggle'></label><ul><li><span class='ee-k'>0:</span><span class='ee-v'>114.6552083672913</span></li><li><span class='ee-k'>1:</span><span class='ee-v'>17.98374803260451</span></li></ul></li><li><label class='ee-shut'>17: [120.41145830824128, 17.969588397315952]<input type='checkbox' class='ee-toggle'></label><ul><li><span class='ee-k'>0:</span><span class='ee-v'>120.41145830824128</span></li><li><span class='ee-k'>1:</span><span class='ee-v'>17.969588397315952</span></li></ul></li><li><label class='ee-shut'>18: [126.16770835450298, 17.98374798689216]<input type='checkbox' class='ee-toggle'></label><ul><li><span class='ee-k'>0:</span><span class='ee-v'>126.16770835450298</span></li><li><span class='ee-k'>1:</span><span class='ee-v'>17.98374798689216</span></li></ul></li></ul></li></ul></li><li><span class='ee-k'>system:index:</span><span class='ee-v'>2007-01-02</span></li><li><span class='ee-k'>system:time_start:</span><span class='ee-v'>1167696000000</span></li></ul></li></ul></li><li><label class='ee-shut'>2: Image users/shaoyanghe96/PMLV2_China_daily/2007-01-03 (1 band)<input type='checkbox' class='ee-toggle'></label><ul><li><span class='ee-k'>type:</span><span class='ee-v'>Image</span></li><li><span class='ee-k'>id:</span><span class='ee-v'>users/shaoyanghe96/PMLV2_China_daily/2007-01-03</span></li><li><span class='ee-k'>version:</span><span class='ee-v'>1655171201296618</span></li><li><label class='ee-shut'>bands: List (1 element)<input type='checkbox' class='ee-toggle'></label><ul><li><label class='ee-shut'>0: \"ET\", int ∈ [0, 196605], EPSG:4326, 14737x8545 px<input type='checkbox' class='ee-toggle'></label><ul><li><span class='ee-k'>id:</span><span class='ee-v'>ET</span></li><li><span class='ee-k'>crs:</span><span class='ee-v'>EPSG:4326</span></li><li><label class='ee-shut'>crs_transform: List (6 elements)<input type='checkbox' class='ee-toggle'></label><ul><li><span class='ee-k'>0:</span><span class='ee-v'>0.004166666666666667</span></li><li><span class='ee-k'>1:</span><span class='ee-v'>0</span></li><li><span class='ee-k'>2:</span><span class='ee-v'>73.4</span></li><li><span class='ee-k'>3:</span><span class='ee-v'>0</span></li><li><span class='ee-k'>4:</span><span class='ee-v'>-0.004166666666666667</span></li><li><span class='ee-k'>5:</span><span class='ee-v'>53.604166666666664</span></li></ul></li><li><label class='ee-shut'>data_type: int ∈ [0, 196605]<input type='checkbox' class='ee-toggle'></label><ul><li><span class='ee-k'>type:</span><span class='ee-v'>PixelType</span></li><li><span class='ee-k'>max:</span><span class='ee-v'>196605</span></li><li><span class='ee-k'>min:</span><span class='ee-v'>0</span></li><li><span class='ee-k'>precision:</span><span class='ee-v'>int</span></li></ul></li><li><label class='ee-shut'>dimensions: [14737, 8545]<input type='checkbox' class='ee-toggle'></label><ul><li><span class='ee-k'>0:</span><span class='ee-v'>14737</span></li><li><span class='ee-k'>1:</span><span class='ee-v'>8545</span></li></ul></li></ul></li></ul></li><li><label class='ee-shut'>properties: Object (4 properties)<input type='checkbox' class='ee-toggle'></label><ul><li><span class='ee-k'>system:asset_size:</span><span class='ee-v'>70822135</span></li><li><label class='ee-shut'>system:footprint: LinearRing (19 vertices)<input type='checkbox' class='ee-toggle'></label><ul><li><span class='ee-k'>type:</span><span class='ee-v'>LinearRing</span></li><li><label class='ee-shut'>coordinates: List (19 elements)<input type='checkbox' class='ee-toggle'></label><ul><li><label class='ee-shut'>0: [126.16770835450298, 17.98374798689216]<input type='checkbox' class='ee-toggle'></label><ul><li><span class='ee-k'>0:</span><span class='ee-v'>126.16770835450298</span></li><li><span class='ee-k'>1:</span><span class='ee-v'>17.98374798689216</span></li></ul></li><li><label class='ee-shut'>1: [130.96458333882703, 17.983747999028797]<input type='checkbox' class='ee-toggle'></label><ul><li><span class='ee-k'>0:</span><span class='ee-v'>130.96458333882703</span></li><li><span class='ee-k'>1:</span><span class='ee-v'>17.983747999028797</span></li></ul></li><li><label class='ee-shut'>2: [134.80647170923274, 17.993156268678817]<input type='checkbox' class='ee-toggle'></label><ul><li><span class='ee-k'>0:</span><span class='ee-v'>134.80647170923274</span></li><li><span class='ee-k'>1:</span><span class='ee-v'>17.993156268678817</span></li></ul></li><li><label class='ee-shut'>3: [134.80911798523698, 53.606229056978776]<input type='checkbox' class='ee-toggle'></label><ul><li><span class='ee-k'>0:</span><span class='ee-v'>134.80911798523698</span></li><li><span class='ee-k'>1:</span><span class='ee-v'>53.606229056978776</span></li></ul></li><li><label class='ee-shut'>4: [127.12708331957923, 53.6062574144496]<input type='checkbox' class='ee-toggle'></label><ul><li><span class='ee-k'>0:</span><span class='ee-v'>127.12708331957923</span></li><li><span class='ee-k'>1:</span><span class='ee-v'>53.6062574144496</span></li></ul></li><li><label class='ee-shut'>5: [115.61458328056331, 53.60625739305617]<input type='checkbox' class='ee-toggle'></label><ul><li><span class='ee-k'>0:</span><span class='ee-v'>115.61458328056331</span></li><li><span class='ee-k'>1:</span><span class='ee-v'>53.60625739305617</span></li></ul></li><li><label class='ee-shut'>6: [100.26458329083957, 53.60625740096642]<input type='checkbox' class='ee-toggle'></label><ul><li><span class='ee-k'>0:</span><span class='ee-v'>100.26458329083957</span></li><li><span class='ee-k'>1:</span><span class='ee-v'>53.60625740096642</span></li></ul></li><li><label class='ee-shut'>7: [85.87395837307227, 53.606257358467346]<input type='checkbox' class='ee-toggle'></label><ul><li><span class='ee-k'>0:</span><span class='ee-v'>85.87395837307227</span></li><li><span class='ee-k'>1:</span><span class='ee-v'>53.606257358467346</span></li></ul></li><li><label class='ee-shut'>8: [73.39504876826472, 53.60622904590532]<input type='checkbox' class='ee-toggle'></label><ul><li><span class='ee-k'>0:</span><span class='ee-v'>73.39504876826472</span></li><li><span class='ee-k'>1:</span><span class='ee-v'>53.60622904590532</span></li></ul></li><li><label class='ee-shut'>9: [73.39769500256618, 17.99315626720766]<input type='checkbox' class='ee-toggle'></label><ul><li><span class='ee-k'>0:</span><span class='ee-v'>73.39769500256618</span></li><li><span class='ee-k'>1:</span><span class='ee-v'>17.99315626720766</span></li></ul></li><li><label class='ee-shut'>10: [77.23958330636853, 17.983748042394836]<input type='checkbox' class='ee-toggle'></label><ul><li><span class='ee-k'>0:</span><span class='ee-v'>77.23958330636853</span></li><li><span class='ee-k'>1:</span><span class='ee-v'>17.983748042394836</span></li></ul></li><li><label class='ee-shut'>11: [82.51614586528224, 17.977257927077705]<input type='checkbox' class='ee-toggle'></label><ul><li><span class='ee-k'>0:</span><span class='ee-v'>82.51614586528224</span></li><li><span class='ee-k'>1:</span><span class='ee-v'>17.977257927077705</span></li></ul></li><li><label class='ee-shut'>12: [88.75208334879692, 17.969588356725673]<input type='checkbox' class='ee-toggle'></label><ul><li><span class='ee-k'>0:</span><span class='ee-v'>88.75208334879692</span></li><li><span class='ee-k'>1:</span><span class='ee-v'>17.969588356725673</span></li></ul></li><li><label class='ee-shut'>13: [94.98802083878665, 17.977257989632918]<input type='checkbox' class='ee-toggle'></label><ul><li><span class='ee-k'>0:</span><span class='ee-v'>94.98802083878665</span></li><li><span class='ee-k'>1:</span><span class='ee-v'>17.977257989632918</span></li></ul></li><li><label class='ee-shut'>14: [101.70364583349793, 17.96073940983618]<input type='checkbox' class='ee-toggle'></label><ul><li><span class='ee-k'>0:</span><span class='ee-v'>101.70364583349793</span></li><li><span class='ee-k'>1:</span><span class='ee-v'>17.96073940983618</span></li></ul></li><li><label class='ee-shut'>15: [108.89895833404846, 17.969588379651693]<input type='checkbox' class='ee-toggle'></label><ul><li><span class='ee-k'>0:</span><span class='ee-v'>108.89895833404846</span></li><li><span class='ee-k'>1:</span><span class='ee-v'>17.969588379651693</span></li></ul></li><li><label class='ee-shut'>16: [114.6552083672913, 17.98374803260451]<input type='checkbox' class='ee-toggle'></label><ul><li><span class='ee-k'>0:</span><span class='ee-v'>114.6552083672913</span></li><li><span class='ee-k'>1:</span><span class='ee-v'>17.98374803260451</span></li></ul></li><li><label class='ee-shut'>17: [120.41145830824128, 17.969588397315952]<input type='checkbox' class='ee-toggle'></label><ul><li><span class='ee-k'>0:</span><span class='ee-v'>120.41145830824128</span></li><li><span class='ee-k'>1:</span><span class='ee-v'>17.969588397315952</span></li></ul></li><li><label class='ee-shut'>18: [126.16770835450298, 17.98374798689216]<input type='checkbox' class='ee-toggle'></label><ul><li><span class='ee-k'>0:</span><span class='ee-v'>126.16770835450298</span></li><li><span class='ee-k'>1:</span><span class='ee-v'>17.98374798689216</span></li></ul></li></ul></li></ul></li><li><span class='ee-k'>system:index:</span><span class='ee-v'>2007-01-03</span></li><li><span class='ee-k'>system:time_start:</span><span class='ee-v'>1167782400000</span></li></ul></li></ul></li></ul></li></ul></li></ul></div><script>function toggleHeader() {\n",
       "    const parent = this.parentElement;\n",
       "    parent.className = parent.className === \"ee-open\" ? \"ee-shut\" : \"ee-open\";\n",
       "}\n",
       "\n",
       "for (let c of document.getElementsByClassName(\"ee-toggle\")) {\n",
       "    c.onclick = toggleHeader;\n",
       "}</script></div>"
      ],
      "text/plain": [
       "<ee.imagecollection.ImageCollection at 0x1a670520a00>"
      ]
     },
     "execution_count": 4,
     "metadata": {},
     "output_type": "execute_result"
    }
   ],
   "source": [
    "def tidy_pml(id):\n",
    "    return ee.ImageCollection(id).filter(filter).map(cal_ETsum)\n",
    "\n",
    "col_pml_v014 = tidy_pml(\"projects/pml_evapotranspiration/PML/OUTPUT/PML_V2_8day_v014\")\n",
    "col_pml_v017 = tidy_pml(\"CAS/IGSNRR/PML/V2_v017\")\n",
    "col_pml_china = tidy_pml(\"users/shaoyanghe96/PMLV2_China_daily\")\n",
    "\n",
    "col_pml_china.limit(3)"
   ]
  },
  {
   "cell_type": "code",
   "execution_count": null,
   "id": "bd633754-6501-4ed0-bb1d-0bb4749afecd",
   "metadata": {},
   "outputs": [],
   "source": [
    "%%time\n",
    "col_export_points(point, col_pml_v014, \"data/栾城_PMLV2_014\")\n",
    "col_export_points(point, col_pml_v017, \"data/栾城_PMLV2_017\")\n",
    "col_export_points(point, col_pml_china, \"data/栾城_PMLV2_China\")\n"
   ]
  },
  {
   "cell_type": "code",
   "execution_count": 5,
   "id": "841c72f8-ef94-4321-85d0-ee710c419b39",
   "metadata": {
    "scrolled": true
   },
   "outputs": [
    {
     "data": {
      "text/html": [
       "\n",
       "            <style>\n",
       "                .geemap-dark {\n",
       "                    --jp-widgets-color: white;\n",
       "                    --jp-widgets-label-color: white;\n",
       "                    --jp-ui-font-color1: white;\n",
       "                    --jp-layout-color2: #454545;\n",
       "                    background-color: #383838;\n",
       "                }\n",
       "\n",
       "                .geemap-dark .jupyter-button {\n",
       "                    --jp-layout-color3: #383838;\n",
       "                }\n",
       "\n",
       "                .geemap-colab {\n",
       "                    background-color: var(--colab-primary-surface-color, white);\n",
       "                }\n",
       "\n",
       "                .geemap-colab .jupyter-button {\n",
       "                    --jp-layout-color3: var(--colab-primary-surface-color, white);\n",
       "                }\n",
       "            </style>\n",
       "            "
      ],
      "text/plain": [
       "<IPython.core.display.HTML object>"
      ]
     },
     "metadata": {},
     "output_type": "display_data"
    }
   ],
   "source": [
    "col_lai = ee.ImageCollection('MODIS/061/MOD15A2H') \\\n",
    "    .filter(filter) \\\n",
    "    .select(['Lai_500m'], ['LAI'])\n",
    "\n",
    "vis_lai = {\n",
    "    \"min\": 0, \n",
    "    \"max\": 20, \n",
    "    \"palette\": [\"red\", \"blue\", \"green\"]\n",
    "}\n",
    "# map = geemap.Map()\n",
    "# map.addLayer(col_lai, vis_lai, \"lai\")\n",
    "# map.add_colorbar(vis_lai, label=\"LAI\", discrete=False);\n",
    "# map"
   ]
  },
  {
   "cell_type": "code",
   "execution_count": 6,
   "id": "30a95c69-d3fc-413e-a7be-8ba89290bb7f",
   "metadata": {
    "scrolled": true
   },
   "outputs": [
    {
     "data": {
      "text/html": [
       "\n",
       "            <style>\n",
       "                .geemap-dark {\n",
       "                    --jp-widgets-color: white;\n",
       "                    --jp-widgets-label-color: white;\n",
       "                    --jp-ui-font-color1: white;\n",
       "                    --jp-layout-color2: #454545;\n",
       "                    background-color: #383838;\n",
       "                }\n",
       "\n",
       "                .geemap-dark .jupyter-button {\n",
       "                    --jp-layout-color3: #383838;\n",
       "                }\n",
       "\n",
       "                .geemap-colab {\n",
       "                    background-color: var(--colab-primary-surface-color, white);\n",
       "                }\n",
       "\n",
       "                .geemap-colab .jupyter-button {\n",
       "                    --jp-layout-color3: var(--colab-primary-surface-color, white);\n",
       "                }\n",
       "            </style>\n",
       "            "
      ],
      "text/plain": [
       "<IPython.core.display.HTML object>"
      ]
     },
     "metadata": {},
     "output_type": "display_data"
    },
    {
     "data": {
      "application/vnd.jupyter.widget-view+json": {
       "model_id": "6664276f4a814366af28c166724b9ca4",
       "version_major": 2,
       "version_minor": 0
      },
      "text/plain": [
       "Map(center=[37.88333333333333, 114.68333333333334], controls=(WidgetControl(options=['position', 'transparent_…"
      ]
     },
     "execution_count": 6,
     "metadata": {},
     "output_type": "execute_result"
    }
   ],
   "source": [
    "Map = geemap.Map()\n",
    "Map.add_basemap('SATELLITE')\n",
    "Map.centerObject(point, 14)\n",
    "Map.addLayer(col_lai, vis_lai, \"lai\")\n",
    "Map.add_colorbar(vis_lai, label=\"LAI\", discrete=False);\n",
    "Map.addLayer(point, {'color': 'black', 'pointsize': 12}, 'point')\n",
    "Map.addLayer(point.buffer(1000), {'color': 'red', 'PointSize': 12}, '1km', True, 0.4)\n",
    "Map"
   ]
  },
  {
   "cell_type": "code",
   "execution_count": null,
   "id": "af8ff10c-a2ce-4224-b3ba-5814672e070e",
   "metadata": {},
   "outputs": [],
   "source": [
    "# ?ee.batch.Export.table.toDrive\n",
    "# \"CSV\" (default), \"GeoJSON\", \"KML\", \"KMZ\", \"SHP\", or \"TFRecord\"\n",
    "# ee.batch.Export.table.toDrive(res, \"temp\", folder=\"gee\", fileFormat=\"GeoJSON\").start()"
   ]
  }
 ],
 "metadata": {
  "kernelspec": {
   "display_name": "Python 3 (ipykernel)",
   "language": "python",
   "name": "python3"
  },
  "language_info": {
   "codemirror_mode": {
    "name": "ipython",
    "version": 3
   },
   "file_extension": ".py",
   "mimetype": "text/x-python",
   "name": "python",
   "nbconvert_exporter": "python",
   "pygments_lexer": "ipython3",
   "version": "3.9.15"
  }
 },
 "nbformat": 4,
 "nbformat_minor": 5
}
